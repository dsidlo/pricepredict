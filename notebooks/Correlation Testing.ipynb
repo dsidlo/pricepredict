{
 "cells": [
  {
   "metadata": {},
   "cell_type": "markdown",
   "source": "# Correlation Testing",
   "id": "de4c41a959314856"
  },
  {
   "metadata": {
    "ExecuteTime": {
     "end_time": "2025-01-11T16:29:17.528904Z",
     "start_time": "2025-01-11T16:28:55.389170Z"
    }
   },
   "cell_type": "code",
   "source": [
    "import os\n",
    "from pricepredict import PricePredict\n",
    "\n",
    "# Get all daily PPO objects from the ppo dir\n",
    "ppos = {}\n",
    "for file in os.listdir('../ppo'):\n",
    "    # Check if filename has _D_ in it and ends with .dill\n",
    "    if '_D_' in file and file.endswith('.dill'):\n",
    "        # Get the symbol name from the file name (first chars before _D_)\n",
    "        symbol = file.split('_D_')[0]\n",
    "        # Load the PPO object from the file\n",
    "        with open(f'../ppo/{file}', 'rb') as f:\n",
    "            pp_obj = f.read()\n",
    "        # unserialize the PPO object\n",
    "        ppos[symbol] = PricePredict.unserialize(pp_obj)"
   ],
   "id": "3afecaf7c479aaff",
   "outputs": [],
   "execution_count": 6
  },
  {
   "metadata": {
    "ExecuteTime": {
     "end_time": "2025-01-11T16:29:24.969516Z",
     "start_time": "2025-01-11T16:29:24.397647Z"
    }
   },
   "cell_type": "code",
   "source": [
    "\n",
    "all_symbols = sorted(ppos.keys())\n",
    "\n",
    "# Loop through the ppos sorted by key (symbol)\n",
    "for symbol in all_symbols:\n",
    "    print(f'{ppos[symbol].ticker}')\n",
    "    # Generate correlations between each symbol and all other symbols\n",
    "    for symbol2 in all_symbols:\n",
    "        if symbol != symbol2:\n",
    "            # Get the corr between the two symbols\n",
    "            correlation = ppos[symbol].periodic_correlation(ppos[symbol2], pc_period_len=30)\n",
    "            print(f'{symbol2}: {correlation['coint_stationary']}')\n"
   ],
   "id": "88c81c7e50199e6d",
   "outputs": [
    {
     "name": "stderr",
     "output_type": "stream",
     "text": [
      "pc_period_len [30] is less than the minimum length of the data [240]. self_len[241], ppd_len[250]\n",
      "pc_period_len [30] is less than the minimum length of the data [240]. self_len[241], ppd_len[250]\n",
      "pc_period_len [30] is less than the minimum length of the data [240]. self_len[241], ppd_len[250]\n",
      "pc_period_len [30] is less than the minimum length of the data [240]. self_len[241], ppd_len[250]\n",
      "pc_period_len [30] is less than the minimum length of the data [240]. self_len[241], ppd_len[250]\n",
      "pc_period_len [30] is less than the minimum length of the data [240]. self_len[241], ppd_len[250]\n",
      "pc_period_len [30] is less than the minimum length of the data [240]. self_len[241], ppd_len[250]\n",
      "pc_period_len [30] is less than the minimum length of the data [240]. self_len[241], ppd_len[250]\n",
      "pc_period_len [30] is less than the minimum length of the data [240]. self_len[241], ppd_len[250]\n",
      "pc_period_len [30] is less than the minimum length of the data [240]. self_len[241], ppd_len[250]\n",
      "pc_period_len [30] is less than the minimum length of the data [240]. self_len[241], ppd_len[250]\n",
      "pc_period_len [30] is less than the minimum length of the data [240]. self_len[241], ppd_len[250]\n",
      "pc_period_len [30] is less than the minimum length of the data [240]. self_len[241], ppd_len[250]\n",
      "pc_period_len [30] is less than the minimum length of the data [240]. self_len[241], ppd_len[250]\n",
      "pc_period_len [30] is less than the minimum length of the data [240]. self_len[241], ppd_len[250]\n",
      "pc_period_len [30] is less than the minimum length of the data [235]. self_len[241], ppd_len[236]\n",
      "pc_period_len [30] is less than the minimum length of the data [240]. self_len[241], ppd_len[250]\n",
      "pc_period_len [30] is less than the minimum length of the data [240]. self_len[241], ppd_len[250]\n",
      "pc_period_len [30] is less than the minimum length of the data [240]. self_len[241], ppd_len[250]\n",
      "pc_period_len [30] is less than the minimum length of the data [240]. self_len[241], ppd_len[250]\n",
      "pc_period_len [30] is less than the minimum length of the data [240]. self_len[241], ppd_len[250]\n",
      "pc_period_len [30] is less than the minimum length of the data [240]. self_len[241], ppd_len[250]\n",
      "pc_period_len [30] is less than the minimum length of the data [240]. self_len[241], ppd_len[250]\n",
      "pc_period_len [30] is less than the minimum length of the data [240]. self_len[241], ppd_len[250]\n",
      "pc_period_len [30] is less than the minimum length of the data [240]. self_len[241], ppd_len[250]\n",
      "pc_period_len [30] is less than the minimum length of the data [240]. self_len[241], ppd_len[250]\n",
      "pc_period_len [30] is less than the minimum length of the data [240]. self_len[241], ppd_len[250]\n",
      "pc_period_len [30] is less than the minimum length of the data [240]. self_len[241], ppd_len[250]\n"
     ]
    },
    {
     "name": "stdout",
     "output_type": "stream",
     "text": [
      "000001.SS\n",
      "AAOI: False\n",
      "AAPL: False\n",
      "ABT: False\n",
      "ACAD: False\n",
      "ACN: False\n",
      "ADBE: False\n",
      "ADM: False\n",
      "ADP: False\n",
      "AIG: False\n",
      "ALGM: False\n",
      "ALKS: False\n",
      "ALL: False\n",
      "AMGN: False\n",
      "AMX: False\n",
      "AMZN: False\n",
      "ANTM.JK: False\n",
      "AON: False\n",
      "APD: False\n",
      "APTV: False\n",
      "ASND: False\n",
      "AVGO: False\n",
      "AXON: False\n",
      "AXP: False\n",
      "BA: False\n",
      "BB: False\n",
      "BCRX: False\n",
      "BFH: False\n"
     ]
    },
    {
     "name": "stderr",
     "output_type": "stream",
     "text": [
      "pc_period_len [30] is less than the minimum length of the data [240]. self_len[241], ppd_len[250]\n",
      "pc_period_len [30] is less than the minimum length of the data [240]. self_len[241], ppd_len[250]\n",
      "pc_period_len [30] is less than the minimum length of the data [240]. self_len[241], ppd_len[250]\n",
      "pc_period_len [30] is less than the minimum length of the data [240]. self_len[241], ppd_len[250]\n",
      "pc_period_len [30] is less than the minimum length of the data [240]. self_len[241], ppd_len[250]\n",
      "pc_period_len [30] is less than the minimum length of the data [240]. self_len[241], ppd_len[250]\n",
      "pc_period_len [30] is less than the minimum length of the data [240]. self_len[241], ppd_len[250]\n",
      "pc_period_len [30] is less than the minimum length of the data [240]. self_len[241], ppd_len[250]\n",
      "pc_period_len [30] is less than the minimum length of the data [240]. self_len[241], ppd_len[250]\n",
      "pc_period_len [30] is less than the minimum length of the data [240]. self_len[241], ppd_len[250]\n",
      "pc_period_len [30] is less than the minimum length of the data [240]. self_len[241], ppd_len[250]\n",
      "pc_period_len [30] is less than the minimum length of the data [240]. self_len[241], ppd_len[250]\n",
      "pc_period_len [30] is less than the minimum length of the data [240]. self_len[241], ppd_len[250]\n",
      "pc_period_len [30] is less than the minimum length of the data [240]. self_len[241], ppd_len[250]\n",
      "pc_period_len [30] is less than the minimum length of the data [240]. self_len[241], ppd_len[250]\n",
      "pc_period_len [30] is less than the minimum length of the data [240]. self_len[241], ppd_len[250]\n",
      "pc_period_len [30] is less than the minimum length of the data [240]. self_len[241], ppd_len[250]\n",
      "pc_period_len [30] is less than the minimum length of the data [240]. self_len[241], ppd_len[250]\n",
      "pc_period_len [30] is less than the minimum length of the data [240]. self_len[241], ppd_len[250]\n",
      "pc_period_len [30] is less than the minimum length of the data [240]. self_len[241], ppd_len[250]\n",
      "pc_period_len [30] is less than the minimum length of the data [240]. self_len[241], ppd_len[250]\n",
      "pc_period_len [30] is less than the minimum length of the data [240]. self_len[241], ppd_len[250]\n",
      "pc_period_len [30] is less than the minimum length of the data [240]. self_len[241], ppd_len[250]\n",
      "pc_period_len [30] is less than the minimum length of the data [240]. self_len[241], ppd_len[250]\n",
      "pc_period_len [30] is less than the minimum length of the data [240]. self_len[241], ppd_len[250]\n",
      "pc_period_len [30] is less than the minimum length of the data [240]. self_len[241], ppd_len[250]\n",
      "pc_period_len [30] is less than the minimum length of the data [238]. self_len[241], ppd_len[260]\n"
     ]
    },
    {
     "name": "stdout",
     "output_type": "stream",
     "text": [
      "BIDU: False\n",
      "BKNG: False\n",
      "BLK: False\n",
      "BMY: False\n",
      "BRK-B: False\n",
      "CAT: False\n",
      "CB: False\n",
      "CCI: False\n",
      "CI: False\n",
      "CL: False\n",
      "CMCSA: False\n",
      "CNC: False\n",
      "CNMD: False\n",
      "CRM: False\n",
      "CRSP: False\n",
      "CSCO: False\n",
      "CSX: False\n",
      "CVX: False\n",
      "DHR: False\n",
      "DIS: False\n",
      "DUK: False\n",
      "ECL: False\n",
      "EGAN: False\n",
      "EL: False\n",
      "EMR: False\n",
      "EOG: False\n",
      "ERIC: False\n"
     ]
    },
    {
     "name": "stderr",
     "output_type": "stream",
     "text": [
      "Error: In periodic_correlation(): ADF Test - self.ticker[000001.SS] ppo.ticker[EURUSD=X] period[D]\n",
      "exog contains inf or nans\n"
     ]
    },
    {
     "ename": "ValueError",
     "evalue": "Error: Error: In periodic_correlation(): ADF Test - self.ticker[000001.SS] ppo.ticker[EURUSD=X] period[D]\nexog contains inf or nans",
     "output_type": "error",
     "traceback": [
      "\u001B[0;31m---------------------------------------------------------------------------\u001B[0m",
      "\u001B[0;31mMissingDataError\u001B[0m                          Traceback (most recent call last)",
      "File \u001B[0;32m~/workspace/pricepredict/lib/pricepredict.py:2505\u001B[0m, in \u001B[0;36mperiodic_correlation\u001B[0;34m(self, ppo, pc_period_len)\u001B[0m\n\u001B[1;32m   2504\u001B[0m \u001B[38;5;66;03m# Get the Spearman and Kendall correlation values\u001B[39;00m\n\u001B[0;32m-> 2505\u001B[0m spearman_corr \u001B[38;5;241m=\u001B[39m spearman_corr_matrix\u001B[38;5;241m.\u001B[39mloc[\u001B[38;5;124m'\u001B[39m\u001B[38;5;124mstock_a\u001B[39m\u001B[38;5;124m'\u001B[39m][\u001B[38;5;124m'\u001B[39m\u001B[38;5;124mstock_b\u001B[39m\u001B[38;5;124m'\u001B[39m]\n\u001B[1;32m   2506\u001B[0m kendall_corr \u001B[38;5;241m=\u001B[39m kendall_corr_matrix\u001B[38;5;241m.\u001B[39mloc[\u001B[38;5;124m'\u001B[39m\u001B[38;5;124mstock_a\u001B[39m\u001B[38;5;124m'\u001B[39m][\u001B[38;5;124m'\u001B[39m\u001B[38;5;124mstock_b\u001B[39m\u001B[38;5;124m'\u001B[39m]\n",
      "File \u001B[0;32m~/anaconda3/envs/pricepredict/lib/python3.12/site-packages/statsmodels/tsa/stattools.py:326\u001B[0m, in \u001B[0;36madfuller\u001B[0;34m(x, maxlag, regression, autolag, store, regresults)\u001B[0m\n\u001B[1;32m    325\u001B[0m \u001B[38;5;28;01mif\u001B[39;00m \u001B[38;5;129;01mnot\u001B[39;00m regresults:\n\u001B[0;32m--> 326\u001B[0m     icbest, bestlag \u001B[38;5;241m=\u001B[39m \u001B[43m_autolag\u001B[49m\u001B[43m(\u001B[49m\n\u001B[1;32m    327\u001B[0m \u001B[43m        \u001B[49m\u001B[43mOLS\u001B[49m\u001B[43m,\u001B[49m\u001B[43m \u001B[49m\u001B[43mxdshort\u001B[49m\u001B[43m,\u001B[49m\u001B[43m \u001B[49m\u001B[43mfullRHS\u001B[49m\u001B[43m,\u001B[49m\u001B[43m \u001B[49m\u001B[43mstartlag\u001B[49m\u001B[43m,\u001B[49m\u001B[43m \u001B[49m\u001B[43mmaxlag\u001B[49m\u001B[43m,\u001B[49m\u001B[43m \u001B[49m\u001B[43mautolag\u001B[49m\n\u001B[1;32m    328\u001B[0m \u001B[43m    \u001B[49m\u001B[43m)\u001B[49m\n\u001B[1;32m    329\u001B[0m \u001B[38;5;28;01melse\u001B[39;00m:\n",
      "File \u001B[0;32m~/anaconda3/envs/pricepredict/lib/python3.12/site-packages/statsmodels/tsa/stattools.py:132\u001B[0m, in \u001B[0;36m_autolag\u001B[0;34m(mod, endog, exog, startlag, maxlag, method, modargs, fitargs, regresults)\u001B[0m\n\u001B[1;32m    131\u001B[0m \u001B[38;5;28;01mfor\u001B[39;00m lag \u001B[38;5;129;01min\u001B[39;00m \u001B[38;5;28mrange\u001B[39m(startlag, startlag \u001B[38;5;241m+\u001B[39m maxlag \u001B[38;5;241m+\u001B[39m \u001B[38;5;241m1\u001B[39m):\n\u001B[0;32m--> 132\u001B[0m     mod_instance \u001B[38;5;241m=\u001B[39m \u001B[43mmod\u001B[49m\u001B[43m(\u001B[49m\u001B[43mendog\u001B[49m\u001B[43m,\u001B[49m\u001B[43m \u001B[49m\u001B[43mexog\u001B[49m\u001B[43m[\u001B[49m\u001B[43m:\u001B[49m\u001B[43m,\u001B[49m\u001B[43m \u001B[49m\u001B[43m:\u001B[49m\u001B[43mlag\u001B[49m\u001B[43m]\u001B[49m\u001B[43m,\u001B[49m\u001B[43m \u001B[49m\u001B[38;5;241;43m*\u001B[39;49m\u001B[43mmodargs\u001B[49m\u001B[43m)\u001B[49m\n\u001B[1;32m    133\u001B[0m     results[lag] \u001B[38;5;241m=\u001B[39m mod_instance\u001B[38;5;241m.\u001B[39mfit()\n",
      "File \u001B[0;32m~/anaconda3/envs/pricepredict/lib/python3.12/site-packages/statsmodels/regression/linear_model.py:921\u001B[0m, in \u001B[0;36mOLS.__init__\u001B[0;34m(self, endog, exog, missing, hasconst, **kwargs)\u001B[0m\n\u001B[1;32m    920\u001B[0m     warnings\u001B[38;5;241m.\u001B[39mwarn(msg, ValueWarning)\n\u001B[0;32m--> 921\u001B[0m \u001B[38;5;28;43msuper\u001B[39;49m\u001B[43m(\u001B[49m\u001B[43m)\u001B[49m\u001B[38;5;241;43m.\u001B[39;49m\u001B[38;5;21;43m__init__\u001B[39;49m\u001B[43m(\u001B[49m\u001B[43mendog\u001B[49m\u001B[43m,\u001B[49m\u001B[43m \u001B[49m\u001B[43mexog\u001B[49m\u001B[43m,\u001B[49m\u001B[43m \u001B[49m\u001B[43mmissing\u001B[49m\u001B[38;5;241;43m=\u001B[39;49m\u001B[43mmissing\u001B[49m\u001B[43m,\u001B[49m\n\u001B[1;32m    922\u001B[0m \u001B[43m                          \u001B[49m\u001B[43mhasconst\u001B[49m\u001B[38;5;241;43m=\u001B[39;49m\u001B[43mhasconst\u001B[49m\u001B[43m,\u001B[49m\u001B[43m \u001B[49m\u001B[38;5;241;43m*\u001B[39;49m\u001B[38;5;241;43m*\u001B[39;49m\u001B[43mkwargs\u001B[49m\u001B[43m)\u001B[49m\n\u001B[1;32m    923\u001B[0m \u001B[38;5;28;01mif\u001B[39;00m \u001B[38;5;124m\"\u001B[39m\u001B[38;5;124mweights\u001B[39m\u001B[38;5;124m\"\u001B[39m \u001B[38;5;129;01min\u001B[39;00m \u001B[38;5;28mself\u001B[39m\u001B[38;5;241m.\u001B[39m_init_keys:\n",
      "File \u001B[0;32m~/anaconda3/envs/pricepredict/lib/python3.12/site-packages/statsmodels/regression/linear_model.py:746\u001B[0m, in \u001B[0;36mWLS.__init__\u001B[0;34m(self, endog, exog, weights, missing, hasconst, **kwargs)\u001B[0m\n\u001B[1;32m    745\u001B[0m     weights \u001B[38;5;241m=\u001B[39m weights\u001B[38;5;241m.\u001B[39msqueeze()\n\u001B[0;32m--> 746\u001B[0m \u001B[38;5;28;43msuper\u001B[39;49m\u001B[43m(\u001B[49m\u001B[43m)\u001B[49m\u001B[38;5;241;43m.\u001B[39;49m\u001B[38;5;21;43m__init__\u001B[39;49m\u001B[43m(\u001B[49m\u001B[43mendog\u001B[49m\u001B[43m,\u001B[49m\u001B[43m \u001B[49m\u001B[43mexog\u001B[49m\u001B[43m,\u001B[49m\u001B[43m \u001B[49m\u001B[43mmissing\u001B[49m\u001B[38;5;241;43m=\u001B[39;49m\u001B[43mmissing\u001B[49m\u001B[43m,\u001B[49m\n\u001B[1;32m    747\u001B[0m \u001B[43m                          \u001B[49m\u001B[43mweights\u001B[49m\u001B[38;5;241;43m=\u001B[39;49m\u001B[43mweights\u001B[49m\u001B[43m,\u001B[49m\u001B[43m \u001B[49m\u001B[43mhasconst\u001B[49m\u001B[38;5;241;43m=\u001B[39;49m\u001B[43mhasconst\u001B[49m\u001B[43m,\u001B[49m\u001B[43m \u001B[49m\u001B[38;5;241;43m*\u001B[39;49m\u001B[38;5;241;43m*\u001B[39;49m\u001B[43mkwargs\u001B[49m\u001B[43m)\u001B[49m\n\u001B[1;32m    748\u001B[0m nobs \u001B[38;5;241m=\u001B[39m \u001B[38;5;28mself\u001B[39m\u001B[38;5;241m.\u001B[39mexog\u001B[38;5;241m.\u001B[39mshape[\u001B[38;5;241m0\u001B[39m]\n",
      "File \u001B[0;32m~/anaconda3/envs/pricepredict/lib/python3.12/site-packages/statsmodels/regression/linear_model.py:200\u001B[0m, in \u001B[0;36mRegressionModel.__init__\u001B[0;34m(self, endog, exog, **kwargs)\u001B[0m\n\u001B[1;32m    199\u001B[0m \u001B[38;5;28;01mdef\u001B[39;00m \u001B[38;5;21m__init__\u001B[39m(\u001B[38;5;28mself\u001B[39m, endog, exog, \u001B[38;5;241m*\u001B[39m\u001B[38;5;241m*\u001B[39mkwargs):\n\u001B[0;32m--> 200\u001B[0m     \u001B[38;5;28;43msuper\u001B[39;49m\u001B[43m(\u001B[49m\u001B[43m)\u001B[49m\u001B[38;5;241;43m.\u001B[39;49m\u001B[38;5;21;43m__init__\u001B[39;49m\u001B[43m(\u001B[49m\u001B[43mendog\u001B[49m\u001B[43m,\u001B[49m\u001B[43m \u001B[49m\u001B[43mexog\u001B[49m\u001B[43m,\u001B[49m\u001B[43m \u001B[49m\u001B[38;5;241;43m*\u001B[39;49m\u001B[38;5;241;43m*\u001B[39;49m\u001B[43mkwargs\u001B[49m\u001B[43m)\u001B[49m\n\u001B[1;32m    201\u001B[0m     \u001B[38;5;28mself\u001B[39m\u001B[38;5;241m.\u001B[39mpinv_wexog: Float64Array \u001B[38;5;241m|\u001B[39m \u001B[38;5;28;01mNone\u001B[39;00m \u001B[38;5;241m=\u001B[39m \u001B[38;5;28;01mNone\u001B[39;00m\n",
      "File \u001B[0;32m~/anaconda3/envs/pricepredict/lib/python3.12/site-packages/statsmodels/base/model.py:270\u001B[0m, in \u001B[0;36mLikelihoodModel.__init__\u001B[0;34m(self, endog, exog, **kwargs)\u001B[0m\n\u001B[1;32m    269\u001B[0m \u001B[38;5;28;01mdef\u001B[39;00m \u001B[38;5;21m__init__\u001B[39m(\u001B[38;5;28mself\u001B[39m, endog, exog\u001B[38;5;241m=\u001B[39m\u001B[38;5;28;01mNone\u001B[39;00m, \u001B[38;5;241m*\u001B[39m\u001B[38;5;241m*\u001B[39mkwargs):\n\u001B[0;32m--> 270\u001B[0m     \u001B[38;5;28;43msuper\u001B[39;49m\u001B[43m(\u001B[49m\u001B[43m)\u001B[49m\u001B[38;5;241;43m.\u001B[39;49m\u001B[38;5;21;43m__init__\u001B[39;49m\u001B[43m(\u001B[49m\u001B[43mendog\u001B[49m\u001B[43m,\u001B[49m\u001B[43m \u001B[49m\u001B[43mexog\u001B[49m\u001B[43m,\u001B[49m\u001B[43m \u001B[49m\u001B[38;5;241;43m*\u001B[39;49m\u001B[38;5;241;43m*\u001B[39;49m\u001B[43mkwargs\u001B[49m\u001B[43m)\u001B[49m\n\u001B[1;32m    271\u001B[0m     \u001B[38;5;28mself\u001B[39m\u001B[38;5;241m.\u001B[39minitialize()\n",
      "File \u001B[0;32m~/anaconda3/envs/pricepredict/lib/python3.12/site-packages/statsmodels/base/model.py:95\u001B[0m, in \u001B[0;36mModel.__init__\u001B[0;34m(self, endog, exog, **kwargs)\u001B[0m\n\u001B[1;32m     94\u001B[0m hasconst \u001B[38;5;241m=\u001B[39m kwargs\u001B[38;5;241m.\u001B[39mpop(\u001B[38;5;124m'\u001B[39m\u001B[38;5;124mhasconst\u001B[39m\u001B[38;5;124m'\u001B[39m, \u001B[38;5;28;01mNone\u001B[39;00m)\n\u001B[0;32m---> 95\u001B[0m \u001B[38;5;28mself\u001B[39m\u001B[38;5;241m.\u001B[39mdata \u001B[38;5;241m=\u001B[39m \u001B[38;5;28;43mself\u001B[39;49m\u001B[38;5;241;43m.\u001B[39;49m\u001B[43m_handle_data\u001B[49m\u001B[43m(\u001B[49m\u001B[43mendog\u001B[49m\u001B[43m,\u001B[49m\u001B[43m \u001B[49m\u001B[43mexog\u001B[49m\u001B[43m,\u001B[49m\u001B[43m \u001B[49m\u001B[43mmissing\u001B[49m\u001B[43m,\u001B[49m\u001B[43m \u001B[49m\u001B[43mhasconst\u001B[49m\u001B[43m,\u001B[49m\n\u001B[1;32m     96\u001B[0m \u001B[43m                              \u001B[49m\u001B[38;5;241;43m*\u001B[39;49m\u001B[38;5;241;43m*\u001B[39;49m\u001B[43mkwargs\u001B[49m\u001B[43m)\u001B[49m\n\u001B[1;32m     97\u001B[0m \u001B[38;5;28mself\u001B[39m\u001B[38;5;241m.\u001B[39mk_constant \u001B[38;5;241m=\u001B[39m \u001B[38;5;28mself\u001B[39m\u001B[38;5;241m.\u001B[39mdata\u001B[38;5;241m.\u001B[39mk_constant\n",
      "File \u001B[0;32m~/anaconda3/envs/pricepredict/lib/python3.12/site-packages/statsmodels/base/model.py:135\u001B[0m, in \u001B[0;36mModel._handle_data\u001B[0;34m(self, endog, exog, missing, hasconst, **kwargs)\u001B[0m\n\u001B[1;32m    134\u001B[0m \u001B[38;5;28;01mdef\u001B[39;00m \u001B[38;5;21m_handle_data\u001B[39m(\u001B[38;5;28mself\u001B[39m, endog, exog, missing, hasconst, \u001B[38;5;241m*\u001B[39m\u001B[38;5;241m*\u001B[39mkwargs):\n\u001B[0;32m--> 135\u001B[0m     data \u001B[38;5;241m=\u001B[39m \u001B[43mhandle_data\u001B[49m\u001B[43m(\u001B[49m\u001B[43mendog\u001B[49m\u001B[43m,\u001B[49m\u001B[43m \u001B[49m\u001B[43mexog\u001B[49m\u001B[43m,\u001B[49m\u001B[43m \u001B[49m\u001B[43mmissing\u001B[49m\u001B[43m,\u001B[49m\u001B[43m \u001B[49m\u001B[43mhasconst\u001B[49m\u001B[43m,\u001B[49m\u001B[43m \u001B[49m\u001B[38;5;241;43m*\u001B[39;49m\u001B[38;5;241;43m*\u001B[39;49m\u001B[43mkwargs\u001B[49m\u001B[43m)\u001B[49m\n\u001B[1;32m    136\u001B[0m     \u001B[38;5;66;03m# kwargs arrays could have changed, easier to just attach here\u001B[39;00m\n",
      "File \u001B[0;32m~/anaconda3/envs/pricepredict/lib/python3.12/site-packages/statsmodels/base/data.py:675\u001B[0m, in \u001B[0;36mhandle_data\u001B[0;34m(endog, exog, missing, hasconst, **kwargs)\u001B[0m\n\u001B[1;32m    674\u001B[0m klass \u001B[38;5;241m=\u001B[39m handle_data_class_factory(endog, exog)\n\u001B[0;32m--> 675\u001B[0m \u001B[38;5;28;01mreturn\u001B[39;00m \u001B[43mklass\u001B[49m\u001B[43m(\u001B[49m\u001B[43mendog\u001B[49m\u001B[43m,\u001B[49m\u001B[43m \u001B[49m\u001B[43mexog\u001B[49m\u001B[38;5;241;43m=\u001B[39;49m\u001B[43mexog\u001B[49m\u001B[43m,\u001B[49m\u001B[43m \u001B[49m\u001B[43mmissing\u001B[49m\u001B[38;5;241;43m=\u001B[39;49m\u001B[43mmissing\u001B[49m\u001B[43m,\u001B[49m\u001B[43m \u001B[49m\u001B[43mhasconst\u001B[49m\u001B[38;5;241;43m=\u001B[39;49m\u001B[43mhasconst\u001B[49m\u001B[43m,\u001B[49m\n\u001B[1;32m    676\u001B[0m \u001B[43m             \u001B[49m\u001B[38;5;241;43m*\u001B[39;49m\u001B[38;5;241;43m*\u001B[39;49m\u001B[43mkwargs\u001B[49m\u001B[43m)\u001B[49m\n",
      "File \u001B[0;32m~/anaconda3/envs/pricepredict/lib/python3.12/site-packages/statsmodels/base/data.py:88\u001B[0m, in \u001B[0;36mModelData.__init__\u001B[0;34m(self, endog, exog, missing, hasconst, **kwargs)\u001B[0m\n\u001B[1;32m     87\u001B[0m \u001B[38;5;28mself\u001B[39m\u001B[38;5;241m.\u001B[39mk_constant \u001B[38;5;241m=\u001B[39m \u001B[38;5;241m0\u001B[39m\n\u001B[0;32m---> 88\u001B[0m \u001B[38;5;28;43mself\u001B[39;49m\u001B[38;5;241;43m.\u001B[39;49m\u001B[43m_handle_constant\u001B[49m\u001B[43m(\u001B[49m\u001B[43mhasconst\u001B[49m\u001B[43m)\u001B[49m\n\u001B[1;32m     89\u001B[0m \u001B[38;5;28mself\u001B[39m\u001B[38;5;241m.\u001B[39m_check_integrity()\n",
      "File \u001B[0;32m~/anaconda3/envs/pricepredict/lib/python3.12/site-packages/statsmodels/base/data.py:134\u001B[0m, in \u001B[0;36mModelData._handle_constant\u001B[0;34m(self, hasconst)\u001B[0m\n\u001B[1;32m    133\u001B[0m \u001B[38;5;28;01mif\u001B[39;00m \u001B[38;5;129;01mnot\u001B[39;00m np\u001B[38;5;241m.\u001B[39misfinite(exog_max)\u001B[38;5;241m.\u001B[39mall():\n\u001B[0;32m--> 134\u001B[0m     \u001B[38;5;28;01mraise\u001B[39;00m MissingDataError(\u001B[38;5;124m'\u001B[39m\u001B[38;5;124mexog contains inf or nans\u001B[39m\u001B[38;5;124m'\u001B[39m)\n\u001B[1;32m    135\u001B[0m exog_min \u001B[38;5;241m=\u001B[39m np\u001B[38;5;241m.\u001B[39mmin(\u001B[38;5;28mself\u001B[39m\u001B[38;5;241m.\u001B[39mexog, axis\u001B[38;5;241m=\u001B[39m\u001B[38;5;241m0\u001B[39m)\n",
      "\u001B[0;31mMissingDataError\u001B[0m: exog contains inf or nans",
      "\nDuring handling of the above exception, another exception occurred:\n",
      "\u001B[0;31mValueError\u001B[0m                                Traceback (most recent call last)",
      "Cell \u001B[0;32mIn[7], line 10\u001B[0m\n\u001B[1;32m      7\u001B[0m \u001B[38;5;28;01mfor\u001B[39;00m symbol2 \u001B[38;5;129;01min\u001B[39;00m all_symbols:\n\u001B[1;32m      8\u001B[0m     \u001B[38;5;28;01mif\u001B[39;00m symbol \u001B[38;5;241m!=\u001B[39m symbol2:\n\u001B[1;32m      9\u001B[0m         \u001B[38;5;66;03m# Get the correlation between the two symbols\u001B[39;00m\n\u001B[0;32m---> 10\u001B[0m         correlation \u001B[38;5;241m=\u001B[39m \u001B[43mppos\u001B[49m\u001B[43m[\u001B[49m\u001B[43msymbol\u001B[49m\u001B[43m]\u001B[49m\u001B[38;5;241;43m.\u001B[39;49m\u001B[43mperiodic_correlation\u001B[49m\u001B[43m(\u001B[49m\u001B[43mppos\u001B[49m\u001B[43m[\u001B[49m\u001B[43msymbol2\u001B[49m\u001B[43m]\u001B[49m\u001B[43m,\u001B[49m\u001B[43m \u001B[49m\u001B[43mpc_period_len\u001B[49m\u001B[38;5;241;43m=\u001B[39;49m\u001B[38;5;241;43m30\u001B[39;49m\u001B[43m)\u001B[49m\n\u001B[1;32m     11\u001B[0m         \u001B[38;5;28mprint\u001B[39m(\u001B[38;5;124mf\u001B[39m\u001B[38;5;124m'\u001B[39m\u001B[38;5;132;01m{\u001B[39;00msymbol2\u001B[38;5;132;01m}\u001B[39;00m\u001B[38;5;124m: \u001B[39m\u001B[38;5;132;01m{\u001B[39;00mcorrelation[\u001B[38;5;124m'\u001B[39m\u001B[38;5;124mcoint_stationary\u001B[39m\u001B[38;5;124m'\u001B[39m]\u001B[38;5;132;01m}\u001B[39;00m\u001B[38;5;124m'\u001B[39m)\n",
      "File \u001B[0;32m~/workspace/pricepredict/lib/pricepredict.py:2517\u001B[0m, in \u001B[0;36mperiodic_correlation\u001B[0;34m(self, ppo, pc_period_len)\u001B[0m\n\u001B[1;32m   2515\u001B[0m \u001B[38;5;28;01mif\u001B[39;00m coint_test[\u001B[38;5;241m0\u001B[39m] \u001B[38;5;241m<\u001B[39m \u001B[38;5;28mmin\u001B[39m(coint_test[\u001B[38;5;241m2\u001B[39m]) \u001B[38;5;129;01mand\u001B[39;00m coint_test[\u001B[38;5;241m1\u001B[39m] \u001B[38;5;241m<\u001B[39m \u001B[38;5;241m0.05\u001B[39m:\n\u001B[1;32m   2516\u001B[0m     is_cointegrated \u001B[38;5;241m=\u001B[39m \u001B[38;5;28;01mTrue\u001B[39;00m\n\u001B[0;32m-> 2517\u001B[0m coint_dict \u001B[38;5;241m=\u001B[39m {\u001B[38;5;124m'\u001B[39m\u001B[38;5;124mis_cointegrated\u001B[39m\u001B[38;5;124m'\u001B[39m: is_cointegrated, \u001B[38;5;124m'\u001B[39m\u001B[38;5;124mt_stat\u001B[39m\u001B[38;5;124m'\u001B[39m: coint_test[\u001B[38;5;241m0\u001B[39m],\n\u001B[1;32m   2518\u001B[0m               \u001B[38;5;124m'\u001B[39m\u001B[38;5;124mp_val\u001B[39m\u001B[38;5;124m'\u001B[39m: coint_test[\u001B[38;5;241m1\u001B[39m], \u001B[38;5;124m'\u001B[39m\u001B[38;5;124mcrit_val\u001B[39m\u001B[38;5;124m'\u001B[39m: \u001B[38;5;28mlist\u001B[39m(coint_test[\u001B[38;5;241m2\u001B[39m])}\n\u001B[1;32m   2519\u001B[0m \u001B[38;5;66;03m# Perform an ADF test on the spread between the two stocks.\u001B[39;00m\n\u001B[1;32m   2520\u001B[0m \u001B[38;5;66;03m# Augmented Dickey Fuller Test: This is a test for stationarity in the spread data between 2 stocks.\u001B[39;00m\n\u001B[1;32m   2521\u001B[0m \u001B[38;5;66;03m# This is required for Pairs Trading. We want the combination of Coinegration and Stationarity.\u001B[39;00m\n\u001B[1;32m   2522\u001B[0m \u001B[38;5;66;03m# - Get the spread between the two stocks via self_closes and ppo_closes\u001B[39;00m\n\u001B[1;32m   2523\u001B[0m spread \u001B[38;5;241m=\u001B[39m self_closes \u001B[38;5;241m-\u001B[39m ppo_closes\n",
      "\u001B[0;31mValueError\u001B[0m: Error: Error: In periodic_correlation(): ADF Test - self.ticker[000001.SS] ppo.ticker[EURUSD=X] period[D]\nexog contains inf or nans"
     ]
    }
   ],
   "execution_count": 7
  }
 ],
 "metadata": {
  "kernelspec": {
   "display_name": "Python 3",
   "language": "python",
   "name": "python3"
  },
  "language_info": {
   "codemirror_mode": {
    "name": "ipython",
    "version": 2
   },
   "file_extension": ".py",
   "mimetype": "text/x-python",
   "name": "python",
   "nbconvert_exporter": "python",
   "pygments_lexer": "ipython2",
   "version": "2.7.6"
  }
 },
 "nbformat": 4,
 "nbformat_minor": 5
}
