{
 "cells": [
  {
   "metadata": {},
   "cell_type": "markdown",
   "source": "# Correlation Testing",
   "id": "de4c41a959314856"
  },
  {
   "metadata": {
    "ExecuteTime": {
     "end_time": "2025-01-12T19:21:39.055393Z",
     "start_time": "2025-01-12T19:21:36.189904Z"
    }
   },
   "cell_type": "code",
   "source": [
    "\n",
    "import os\n",
    "from pricepredict import PricePredict\n",
    "from datetime import datetime, timedelta\n",
    "import pandas as pd\n",
    "\n",
    "model_dir = '../models/'\n",
    "chart_dir = '../charts/'\n",
    "preds_dir = '../predictions/'\n",
    "ppo_dir = '../ppo/'\n",
    "ppo_save_dir = '../ppo_save/'\n",
    "\n",
    "def read_ppos():\n",
    "    # Get all daily PPO objects from the ppo dir\n",
    "    read_ppos = {}\n",
    "    for file in os.listdir('../ppo'):\n",
    "        # Check if filename has _D_ in it and ends with .dill\n",
    "        if '_D_' in file and file.endswith('.dill'):\n",
    "            # Get the symbol name from the file name (first chars before _D_)\n",
    "            symbol = file.split('_D_')[0]\n",
    "            # Load the PPO object from the file\n",
    "            with open(f'../ppo/{file}', 'rb') as f:\n",
    "                pp_obj = f.read()\n",
    "            # unserialize the PPO object\n",
    "            read_ppos[symbol] = PricePredict.unserialize(pp_obj)\n",
    "            \n",
    "    return read_ppos\n"
   ],
   "id": "3afecaf7c479aaff",
   "outputs": [
    {
     "name": "stderr",
     "output_type": "stream",
     "text": [
      "2025-01-12 11:21:36.474549: I tensorflow/core/util/port.cc:153] oneDNN custom operations are on. You may see slightly different numerical results due to floating-point round-off errors from different computation orders. To turn them off, set the environment variable `TF_ENABLE_ONEDNN_OPTS=0`.\n",
      "2025-01-12 11:21:36.484394: E external/local_xla/xla/stream_executor/cuda/cuda_fft.cc:485] Unable to register cuFFT factory: Attempting to register factory for plugin cuFFT when one has already been registered\n",
      "2025-01-12 11:21:36.496124: E external/local_xla/xla/stream_executor/cuda/cuda_dnn.cc:8454] Unable to register cuDNN factory: Attempting to register factory for plugin cuDNN when one has already been registered\n",
      "2025-01-12 11:21:36.499290: E external/local_xla/xla/stream_executor/cuda/cuda_blas.cc:1452] Unable to register cuBLAS factory: Attempting to register factory for plugin cuBLAS when one has already been registered\n",
      "2025-01-12 11:21:36.508848: I tensorflow/core/platform/cpu_feature_guard.cc:210] This TensorFlow binary is optimized to use available CPU instructions in performance-critical operations.\n",
      "To enable the following instructions: AVX2 AVX512F AVX512_VNNI FMA, in other operations, rebuild TensorFlow with the appropriate compiler flags.\n",
      "2025-01-12 11:21:37.138679: W tensorflow/compiler/tf2tensorrt/utils/py_utils.cc:38] TF-TRT Warning: Could not find TensorRT\n"
     ]
    }
   ],
   "execution_count": 1
  },
  {
   "metadata": {
    "ExecuteTime": {
     "end_time": "2025-01-12T19:21:39.060206Z",
     "start_time": "2025-01-12T19:21:39.056998Z"
    }
   },
   "cell_type": "code",
   "source": [
    "\n",
    "def create_ppos(symbols: [str]):\n",
    "    # Create a PricePredict object for each symbol\n",
    "    ppos = {}\n",
    "    for sym in symbols:\n",
    "        ppo = PricePredict(sym, period=PricePredict.PeriodDaily,\n",
    "                           model_dir=model_dir,\n",
    "                           chart_dir=chart_dir,\n",
    "                           preds_dir=preds_dir,)\n",
    "        end_dt = datetime.now()\n",
    "        # Load up over 5 years of data\n",
    "        start_dt = end_dt - timedelta(days=365 * 5)\n",
    "        end_date = end_dt.strftime('%Y-%m-%d')\n",
    "        start_date = start_dt.strftime('%Y-%m-%d')\n",
    "\n",
    "        # Fetch data for the ppo\n",
    "        try:\n",
    "            ppo.fetch_data_yahoo(ppo.ticker, start_date, end_date)\n",
    "        except Exception as e:\n",
    "            print(f'Error fetching data for {sym}')\n",
    "            continue\n",
    "\n",
    "        ppos[sym] = ppo\n",
    "\n",
    "    return ppos\n"
   ],
   "id": "d188b1312b9e498e",
   "outputs": [],
   "execution_count": 2
  },
  {
   "metadata": {
    "ExecuteTime": {
     "end_time": "2025-01-12T22:43:49.969684Z",
     "start_time": "2025-01-12T22:43:26.163374Z"
    }
   },
   "cell_type": "code",
   "source": [
    "\n",
    "dally_ppos = read_ppos()\n",
    "\n",
    "print(f'Loaded {len(dally_ppos)} daily PPO objects')\n",
    "print(f'Daily Symbols: {dally_ppos.keys()}')\n",
    "\n"
   ],
   "id": "8b482ee430392225",
   "outputs": [
    {
     "name": "stdout",
     "output_type": "stream",
     "text": [
      "Loaded 196 daily PPO objects\n",
      "Daily Symbols: dict_keys(['PACB', 'UPS', 'PEP', 'DIS', 'MDRX', 'BB', 'PG', 'BKNG', 'LIN', 'CRM', 'HAE', 'USB', 'APD', 'ALGM', 'APTV', '^IXIC', 'AON', 'DHR', '000001.SS', 'ACAD', 'VRTX', 'BFH', 'MASI', 'EURUSD=X', 'BAC', 'AVGO', 'NVDA', '^GSPC', 'XAE=F', 'CRSP', 'BLK', 'ECL', 'AIG', 'INTC', 'GLPG', 'PTCT', 'ZM', 'SYK', 'MSFT', 'ASND', 'EXEL', 'AMZN', 'CAT', 'IBM', 'MO', 'LLY', 'MCD', 'SPGI', 'LDOS', 'XOM', 'VZ', 'ABT', 'GC=F', 'GOOGL', 'CNC', 'FXP', 'MOMO', 'ANTM.JK', 'GE', 'ADBE', 'MMM', 'SYNA', '^DJI', 'ACN', 'MDXG', 'LIVN', 'CLSK', 'EOG', 'ALL', 'JAZZ', 'XAI=F', 'FSLR', 'SCHW', 'CSX', 'T', 'BAX', 'HRTX', 'GBPUSD=X', 'AAPL', 'SEDG', 'WM', 'ITW', 'SBUX', 'TSLA', 'JD', 'MDB', 'IRWD', 'XAF=F', 'RTX', 'EXAS', 'WOLF', 'TMO', 'TXN', 'TEVA', 'JNJ', 'CLS', 'NEO', 'PSA', 'IMAX', 'HIMX', 'GD', 'IART', 'QLYS', 'KO', 'CSCO', 'BRK-B', 'TRV', 'FOLD', 'NKE', 'NFLX', 'NVCR', 'INTU', 'BA', 'CL', 'SO', 'LMT', 'SRPT', 'NEOG', 'DUK', 'GILD', 'CB', 'META', 'MRVL', 'ALKS', 'XAB=F', 'QCOM', 'XAU=F', '^XAX', 'QURE', 'GRPN', 'MEDP', 'IONS', 'HD', 'EL', 'EMR', 'XAK=F', 'ISRG', 'MRK', 'LRCX', 'SMCI', 'CI', 'MA', 'PNC', 'ERIC', 'BIDU', 'HON', 'BMY', 'LSCC', 'VRSN', 'BCRX', 'NEE', 'AXON', 'XNCR', 'V', 'UNH', 'WMT', 'EGAN', 'ORCL', 'JPYUSD=X', 'PFE', 'CMCSA', 'AMGN', 'UCTT', 'ADP', 'AMX', 'OPK', 'CLDX', 'AAOI', 'AXP', '^N225', 'TRMB', 'GOOG', 'CVX', 'PLD', 'SRCL', 'IRTC', 'INCY', 'NOW', 'PYPL', 'MDT', 'VSH', 'ADM', 'NOC', 'FXI', 'CCI', 'JPM', '^NYA', 'HUBS', 'LOW', 'NBIX', 'MTCH', 'MDLZ', 'CNMD', 'SYY', 'NNDM', 'YY'])\n"
     ]
    }
   ],
   "execution_count": 7
  },
  {
   "metadata": {
    "ExecuteTime": {
     "end_time": "2025-01-12T19:24:40.244763Z",
     "start_time": "2025-01-12T19:24:22.347131Z"
    }
   },
   "cell_type": "code",
   "source": [
    "\n",
    "# symbols = ['AAPL', '000001.SS', 'EURUSD=X', 'IBM', 'TSLA', 'SYK', 'RTX', 'QCOM', 'PACB', 'MDLZ']\n",
    "# ppos = create_ppos(symbols)\n",
    "\n",
    "all_symbols = sorted(dally_ppos.keys())\n",
    "print(f'Loaded {len(dally_ppos)} daily PPO objects')\n",
    "all_ptp = None\n",
    "# Loop through the ppos sorted by key (symbol)\n",
    "for pc_period in range(7, 271, 2):\n",
    "    # print(f'.', end='', flush=True)\n",
    "    for symbol in all_symbols:\n",
    "        # print(f'===== {ppos[symbol].ticker} =====')\n",
    "        # Generate correlations between each symbol and all other symbols\n",
    "        for symbol2 in all_symbols:\n",
    "            if symbol != symbol2:\n",
    "                # Get the corr between the two symbols\n",
    "                    try:\n",
    "                        corr = all_symbols[symbol].periodic_correlation(all_symbols[symbol2], pc_period_len=pc_period)\n",
    "                    except Exception as e:\n",
    "                        print(f'Error calculating correlation between {symbol} and {symbol2}\\n{e}')\n",
    "                        continue\n",
    "    \n",
    "                    if corr['coint_stationary']:\n",
    "                        corr_dict = {'potential_pair': f'{symbol}:{symbol2}',\n",
    "                                     'corr_start_date': corr['start_date'], 'corr_end_date': corr['end_date'],\n",
    "                                     'period_days': corr['corr_period_len'],\n",
    "                                     'coint_stasn': corr['coint_stationary'],\n",
    "                                     'coint_pval':  corr['coint_test']['p_val'],\n",
    "                                     'adf_pval': corr['adf_test']['p_val']}\n",
    "                        ptp = pd.DataFrame(corr_dict, index=[0])\n",
    "                        if all_ptp is None:\n",
    "                            all_ptp = ptp\n",
    "                        else:\n",
    "                            all_ptp = pd.concat([all_ptp, ptp])\n",
    "                            \n",
    "                        print(corr_dict)\n",
    "all_ptp\n"
   ],
   "id": "88c81c7e50199e6d",
   "outputs": [
    {
     "name": "stderr",
     "output_type": "stream",
     "text": [
      "IOPub data rate exceeded.\n",
      "The Jupyter server will temporarily stop sending output\n",
      "to the client in order to avoid crashing it.\n",
      "To change this limit, set the config variable\n",
      "`--ServerApp.iopub_data_rate_limit`.\n",
      "\n",
      "Current values:\n",
      "ServerApp.iopub_data_rate_limit=1000000.0 (bytes/sec)\n",
      "ServerApp.rate_limit_window=3.0 (secs)\n",
      "\n"
     ]
    }
   ],
   "execution_count": 4
  },
  {
   "metadata": {
    "ExecuteTime": {
     "end_time": "2025-01-12T23:03:48.707010Z",
     "start_time": "2025-01-12T23:03:48.703693Z"
    }
   },
   "cell_type": "code",
   "source": [
    "import inspect\n",
    "dally_ppos['SEDG'].orig_downloaded_data.__len__()\n",
    "dally_ppos['SEDG'].date_start, dally_ppos['SEDG'].date_end\n",
    "# dally_ppos['AAPL'].fetch_data_yahoo('SEDG', '2020-12-31', '2021-01-01')\n"
   ],
   "id": "6acaf8338e1d7f32",
   "outputs": [
    {
     "data": {
      "text/plain": [
       "('2020-01-01', '2021-01-01')"
      ]
     },
     "execution_count": 34,
     "metadata": {},
     "output_type": "execute_result"
    }
   ],
   "execution_count": 34
  },
  {
   "metadata": {},
   "cell_type": "code",
   "outputs": [],
   "execution_count": null,
   "source": "",
   "id": "8e5518f0a4a482aa"
  }
 ],
 "metadata": {
  "kernelspec": {
   "display_name": "Python 3",
   "language": "python",
   "name": "python3"
  },
  "language_info": {
   "codemirror_mode": {
    "name": "ipython",
    "version": 2
   },
   "file_extension": ".py",
   "mimetype": "text/x-python",
   "name": "python",
   "nbconvert_exporter": "python",
   "pygments_lexer": "ipython2",
   "version": "2.7.6"
  }
 },
 "nbformat": 4,
 "nbformat_minor": 5
}
