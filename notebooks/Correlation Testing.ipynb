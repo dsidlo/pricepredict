{
 "cells": [
  {
   "metadata": {},
   "cell_type": "markdown",
   "source": "# Correlation Testing",
   "id": "de4c41a959314856"
  },
  {
   "metadata": {
    "ExecuteTime": {
     "end_time": "2025-01-13T20:21:51.076248Z",
     "start_time": "2025-01-13T20:21:29.914768Z"
    }
   },
   "cell_type": "code",
   "source": [
    "\n",
    "import os\n",
    "from pricepredict import PricePredict\n",
    "from datetime import datetime, timedelta\n",
    "import pandas as pd\n",
    "\n",
    "model_dir = '../models/'\n",
    "chart_dir = '../charts/'\n",
    "preds_dir = '../predictions/'\n",
    "ppo_dir = '../ppo/'\n",
    "ppo_save_dir = '../ppo_save/'\n",
    "\n",
    "def read_ppos(symbols: [str] = None) -> dict:\n",
    "    \"\"\"\n",
    "    Read the PPO objects from the ppo_dir\n",
    "    \"\"\"\n",
    "    ret_ppos = {}\n",
    "    for file in os.listdir(ppo_dir):\n",
    "        # Check if filename has _D_ in it and ends with .dill\n",
    "        if '_D_' in file and file.endswith('.dill'):\n",
    "            # Get the symbol name from the file name (first chars before _D_)\n",
    "            symbol = file.split('_D_')[0]\n",
    "            if symbols is not None:\n",
    "                if symbol not in symbols:\n",
    "                    continue\n",
    "            # Load the PPO object from the file\n",
    "            with open(f'{ppo_dir}/{file}', 'rb') as f:\n",
    "                pp_obj = f.read()\n",
    "                # unserialize the PPO object\n",
    "                ret_ppos[symbol] = PricePredict.unserialize(pp_obj)\n",
    "\n",
    "    return ret_ppos\n",
    "\n",
    "dally_ppos = read_ppos()\n",
    "pass"
   ],
   "id": "3afecaf7c479aaff",
   "outputs": [],
   "execution_count": 8
  },
  {
   "metadata": {},
   "cell_type": "code",
   "source": [
    "\n",
    "def create_ppos(symbols: [str]):\n",
    "    # Create a PricePredict object for each symbol\n",
    "    ppos = {}\n",
    "    for sym in symbols:\n",
    "        ppo = PricePredict(sym, period=PricePredict.PeriodDaily,\n",
    "                           model_dir=model_dir,\n",
    "                           chart_dir=chart_dir,\n",
    "                           preds_dir=preds_dir,)\n",
    "        end_dt = datetime.now()\n",
    "        # Load up over 5 years of data\n",
    "        start_dt = end_dt - timedelta(days=365 * 5)\n",
    "        end_date = end_dt.strftime('%Y-%m-%d')\n",
    "        start_date = start_dt.strftime('%Y-%m-%d')\n",
    "\n",
    "        # Fetch data for the ppo\n",
    "        try:\n",
    "            ppo.fetch_data_yahoo(ppo.ticker, start_date, end_date)\n",
    "        except Exception as e:\n",
    "            print(f'Error fetching data for {sym}')\n",
    "            continue\n",
    "\n",
    "        ppos[sym] = ppo\n",
    "\n",
    "    return ppos\n"
   ],
   "id": "d188b1312b9e498e",
   "outputs": [],
   "execution_count": null
  },
  {
   "metadata": {},
   "cell_type": "code",
   "source": [
    "\n",
    "dally_ppos = read_ppos()\n",
    "\n",
    "print(f'Loaded {len(dally_ppos)} daily PPO objects')\n",
    "print(f'Daily Symbols: {dally_ppos.keys()}')\n",
    "\n"
   ],
   "id": "8b482ee430392225",
   "outputs": [],
   "execution_count": null
  },
  {
   "metadata": {},
   "cell_type": "code",
   "source": [
    "from tqdm import tqdm\n",
    "\n",
    "# symbols = ['AAPL', '000001.SS', 'EURUSD=X', 'IBM', 'TSLA', 'SYK', 'RTX', 'QCOM', 'PACB', 'MDLZ']\n",
    "# ppos = create_ppos(symbols)\n",
    "\n",
    "all_symbols = sorted(dally_ppos.keys())\n",
    "print(f'Loaded {len(dally_ppos)} daily PPO objects')\n",
    "all_ptp = None\n",
    "# Loop through the ppos sorted by key (symbol)\n",
    "for pc_period in tqdm(range(7, 271, 2), \"Pair Trading Period\"):\n",
    "    # print(f'.', end='', flush=True)\n",
    "    sym1_pb = tqdm(all_symbols, f'Corr Period: {pc_period}', leave=False)\n",
    "    for sym1 in all_symbols:\n",
    "        # print(f'===== {ppos[symbol].ticker} =====')\n",
    "        # Generate correlations between each symbol and all other symbols\n",
    "        sym1_pb.update(1)\n",
    "        sym2_pb = tqdm(all_symbols, f'{sym1}: Corr Period: {pc_period}', leave=False)\n",
    "        for sym2 in all_symbols:\n",
    "            if sym1 != sym2:\n",
    "                # Get the corr between the two symbols\n",
    "                    try:\n",
    "                        corr = all_symbols[sym1].periodic_correlation(all_symbols[sym2], pc_period_len=pc_period)\n",
    "                    except Exception as e:\n",
    "                        print(f'Error calculating correlation between {sym1} and {sym2}\\n{e}')\n",
    "                        continue\n",
    "    \n",
    "                    if corr['coint_stationary']:\n",
    "                        corr_dict = {'potential_pair': f'{sym1}:{sym2}',\n",
    "                                     'corr_start_date': corr['start_date'], 'corr_end_date': corr['end_date'],\n",
    "                                     'period_days': corr['corr_period_len'],\n",
    "                                     'coint_stasn': corr['coint_stationary'],\n",
    "                                     'coint_pval':  corr['coint_test']['p_val'],\n",
    "                                     'adf_pval': corr['adf_test']['p_val']}\n",
    "                        ptp = pd.DataFrame(corr_dict, index=[0])\n",
    "                        if all_ptp is None:\n",
    "                            all_ptp = ptp\n",
    "                        else:\n",
    "                            all_ptp = pd.concat([all_ptp, ptp])\n",
    "                        print(corr_dict)\n",
    "                    \n",
    "            sym2_pb.update(1)\n",
    "            \n",
    "all_ptp\n"
   ],
   "id": "88c81c7e50199e6d",
   "outputs": [],
   "execution_count": null
  },
  {
   "metadata": {},
   "cell_type": "code",
   "source": [
    "import inspect\n",
    "dally_ppos['SEDG'].orig_downloaded_data.__len__()\n",
    "dally_ppos['SEDG'].date_start, dally_ppos['SEDG'].date_end\n",
    "# dally_ppos['AAPL'].fetch_data_yahoo('SEDG', '2020-12-31', '2021-01-01')\n"
   ],
   "id": "6acaf8338e1d7f32",
   "outputs": [],
   "execution_count": null
  },
  {
   "metadata": {
    "ExecuteTime": {
     "end_time": "2025-01-13T18:34:33.794583Z",
     "start_time": "2025-01-13T18:33:58.143011Z"
    }
   },
   "cell_type": "code",
   "source": [
    "from pricepredict import PricePredict\n",
    "\n",
    "sym1, sym2 = ('AMZN', 'XAF=F')\n",
    "all_symbols[sym1].periodic_correlation(all_symbols[sym2], pc_period_len=pc_period)\n"
   ],
   "id": "8e5518f0a4a482aa",
   "outputs": [
    {
     "ename": "TypeError",
     "evalue": "list indices must be integers or slices, not str",
     "output_type": "error",
     "traceback": [
      "\u001B[0;31m---------------------------------------------------------------------------\u001B[0m",
      "\u001B[0;31mTypeError\u001B[0m                                 Traceback (most recent call last)",
      "Cell \u001B[0;32mIn[7], line 4\u001B[0m\n\u001B[1;32m      1\u001B[0m \u001B[38;5;28;01mfrom\u001B[39;00m \u001B[38;5;21;01mpricepredict\u001B[39;00m \u001B[38;5;28;01mimport\u001B[39;00m PricePredict\n\u001B[1;32m      3\u001B[0m sym1, sym2 \u001B[38;5;241m=\u001B[39m (\u001B[38;5;124m'\u001B[39m\u001B[38;5;124mAMZN\u001B[39m\u001B[38;5;124m'\u001B[39m, \u001B[38;5;124m'\u001B[39m\u001B[38;5;124mXAF=F\u001B[39m\u001B[38;5;124m'\u001B[39m)\n\u001B[0;32m----> 4\u001B[0m \u001B[43mall_symbols\u001B[49m\u001B[43m[\u001B[49m\u001B[43msym1\u001B[49m\u001B[43m]\u001B[49m\u001B[38;5;241m.\u001B[39mperiodic_correlation(all_symbols[sym2], pc_period_len\u001B[38;5;241m=\u001B[39mpc_period)\n",
      "\u001B[0;31mTypeError\u001B[0m: list indices must be integers or slices, not str"
     ]
    }
   ],
   "execution_count": 7
  }
 ],
 "metadata": {
  "kernelspec": {
   "display_name": "Python 3",
   "language": "python",
   "name": "python3"
  },
  "language_info": {
   "codemirror_mode": {
    "name": "ipython",
    "version": 2
   },
   "file_extension": ".py",
   "mimetype": "text/x-python",
   "name": "python",
   "nbconvert_exporter": "python",
   "pygments_lexer": "ipython2",
   "version": "2.7.6"
  }
 },
 "nbformat": 4,
 "nbformat_minor": 5
}
