{
 "cells": [
  {
   "metadata": {},
   "cell_type": "markdown",
   "source": [
    "# PricePredict Debug\n",
    "\n"
   ],
   "id": "85ca7484630cb477"
  },
  {
   "metadata": {
    "ExecuteTime": {
     "end_time": "2024-11-24T09:59:44.218428Z",
     "start_time": "2024-11-24T09:59:28.871816Z"
    }
   },
   "cell_type": "code",
   "source": [
    "from pricepredict import PricePredict\n",
    "import logging\n",
    "import os\n",
    "import dill\n",
    "\n",
    "logging.basicConfig()\n",
    "logger = logging.getLogger(__name__)\n",
    "logger.setLevel(logging.DEBUG)\n",
    "# Log to a file...\n",
    "logging.basicConfig(filename='dgs_pred_ui.log', level=logging.DEBUG)\n",
    "\n",
    "def load_pp_objects():\n",
    "\n",
    "    logger.debug(\"Loading PricePredict objects..,\")\n",
    "\n",
    "    sym_dpps_d_ = {}\n",
    "    sym_dpps_w_ = {}\n",
    "\n",
    "    min_dil_size = 70000\n",
    "    ppo_dir = '../ppo/'\n",
    "\n",
    "    # Find the latest .dill files in the ./ppo directory for any given symbol.\n",
    "    dill_files = {}\n",
    "    with os.scandir(ppo_dir) as entries:\n",
    "        tot_entries = len(list(os.scandir(ppo_dir)))\n",
    "        i = 0\n",
    "        for entry in entries:\n",
    "            if entry.is_file() and entry.name.endswith('.dill'):\n",
    "                sym, period = entry.name.split('_')[:2]\n",
    "                sym_period = sym + '_' + period\n",
    "                # Find a key in dill_files that starts with sym and place the entry\n",
    "                # the variable curr_entry.\n",
    "                curr_entry = next((v for k, v in dill_files.items() if k.startswith(sym_period)), None)\n",
    "                if curr_entry is not None:\n",
    "                    if entry.name > curr_entry.name:\n",
    "                        # Replace the entry with the newer file\n",
    "                        dill_files[sym_period] = entry\n",
    "                else:\n",
    "                    dill_files[sym_period] = entry\n",
    "            i += 1\n",
    "\n",
    "    tot_entries = len(dill_files.keys())\n",
    "    i = 0\n",
    "    for sym_period in dill_files.keys():\n",
    "        entry = dill_files[sym_period]\n",
    "        if entry.is_file():\n",
    "            sym = entry.name.split('_')[0]\n",
    "            period = entry.name.split('_')[1]\n",
    "            if period == 'W':\n",
    "                try:\n",
    "                    with open(entry, \"rb\") as f:\n",
    "                        sym_dpps_w_[sym] = dill.load(f)\n",
    "                except Exception as e:\n",
    "                    logger.warning(f\"Error loading PricePredict object [{sym}]: {e}\")\n",
    "            elif period == 'D':\n",
    "                try:\n",
    "                    with open(entry, \"rb\") as f:\n",
    "                        sym_dpps_d_[sym] = dill.load(f)\n",
    "                except Exception as e:\n",
    "                    logger.warning(f\"Error loading PricePredict object [{sym}]: {e}\")\n",
    "            i += 1\n",
    "\n",
    "\n",
    "    return sym_dpps_d_, sym_dpps_w_\n",
    "\n",
    "\n",
    "ppo_ds, ppo_ws = load_pp_objects()\n"
   ],
   "id": "60174ae2ca200a2f",
   "outputs": [
    {
     "name": "stderr",
     "output_type": "stream",
     "text": [
      "DEBUG:__main__:Loading PricePredict objects..,\n",
      "2024-11-24 01:59:28.969707: E external/local_xla/xla/stream_executor/cuda/cuda_driver.cc:266] failed call to cuInit: CUDA_ERROR_UNKNOWN: unknown error\n",
      "2024-11-24 01:59:28.969726: I external/local_xla/xla/stream_executor/cuda/cuda_diagnostics.cc:135] retrieving CUDA diagnostic information for host: motoko-7760\n",
      "2024-11-24 01:59:28.969731: I external/local_xla/xla/stream_executor/cuda/cuda_diagnostics.cc:142] hostname: motoko-7760\n",
      "2024-11-24 01:59:28.969877: I external/local_xla/xla/stream_executor/cuda/cuda_diagnostics.cc:166] libcuda reported version is: 560.35.3\n",
      "2024-11-24 01:59:28.969887: I external/local_xla/xla/stream_executor/cuda/cuda_diagnostics.cc:170] kernel reported version is: 560.35.3\n",
      "2024-11-24 01:59:28.969890: I external/local_xla/xla/stream_executor/cuda/cuda_diagnostics.cc:249] kernel version seems to match DSO: 560.35.3\n"
     ]
    }
   ],
   "execution_count": 5
  }
 ],
 "metadata": {
  "kernelspec": {
   "display_name": "Python 3",
   "language": "python",
   "name": "python3"
  },
  "language_info": {
   "codemirror_mode": {
    "name": "ipython",
    "version": 2
   },
   "file_extension": ".py",
   "mimetype": "text/x-python",
   "name": "python",
   "nbconvert_exporter": "python",
   "pygments_lexer": "ipython2",
   "version": "2.7.6"
  }
 },
 "nbformat": 4,
 "nbformat_minor": 5
}
