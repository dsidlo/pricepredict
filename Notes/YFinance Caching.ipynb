{
 "cells": [
  {
   "metadata": {},
   "cell_type": "markdown",
   "source": [
    "# YFinance Caching\n",
    "\n",
    "Need to cache yfiance data pull to avoid hitting the API limit, and to speed up the prediction refresh process.\n",
    "\n",
    "Leverage yfinance_cache package to cache the data pull.\n",
    "    - Problem with this package is that it does not support Index ^Symbols, so you need to use yfinance directly for Index data pulls.\n",
    "    - ** Fail: yfinance_cache async processing seems to mess with streamlit's asyc processing, causing the streamlit app to hang.\n",
    " \n",
    "YFinance calls...\n",
    "  - yf.Ticker('<ticker>')\n",
    "  - yf.Ticker('<ticker>').info\n",
    "  - yf.Ticker('<ticker>').history\n",
    "  - yf.download('<ticker>', start='<date>', end='<date>')\n",
    "  - yf.download('<ticker>', start='<date>', end='<date>', interval='<interval>')\n",
    "    - Interval \n",
    "        - PeriodWeekly = 'W'\n",
    "        - PeriodDaily = 'D'\n",
    "        - Period1hour = '1h'\n",
    "        - Period5min = '5m'\n",
    "        - Period1min = '1m'\n",
    "\n",
    "Caching Strategy:\n",
    "  - yf.Ticker('<ticker>').info - Cache for 1 day\n",
    "  - yf.Ticker('<ticker>').history: Used to check if symbol is valid\n",
    "  - yf.download('<ticker>', start='<date>', end='<date>')\n",
    "        - Check for data in cache.\n",
    "        - If requested data is cached, return start:end dates of cached data.\n",
    "        - Determine missing data and pull only missing data.\n",
    "        - Pushing the missing data to the DB cache.\n",
    "        - Assemble and return the requests data.    "
   ],
   "id": "d10f3c23e2119906"
  },
  {
   "metadata": {},
   "cell_type": "markdown",
   "source": "",
   "id": "bba5aa3af9945742"
  }
 ],
 "metadata": {
  "kernelspec": {
   "display_name": "Python 3",
   "language": "python",
   "name": "python3"
  },
  "language_info": {
   "codemirror_mode": {
    "name": "ipython",
    "version": 2
   },
   "file_extension": ".py",
   "mimetype": "text/x-python",
   "name": "python",
   "nbconvert_exporter": "python",
   "pygments_lexer": "ipython2",
   "version": "2.7.6"
  }
 },
 "nbformat": 4,
 "nbformat_minor": 5
}
