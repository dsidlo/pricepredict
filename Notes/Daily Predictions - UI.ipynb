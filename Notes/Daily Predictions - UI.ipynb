{
 "cells": [
  {
   "metadata": {},
   "cell_type": "markdown",
   "source": [
    "# Daily Predictions - UI\n",
    "\n",
    "## Introduction\n",
    "\n",
    "This notebook is a user interface for the daily predictions model. It allows the user to input the date for which they would like to see the predictions and then displays the predictions for that date.\n",
    "\n",
    "### Usage\n",
    "\n",
    "1. User Logins into the system\n",
    "2. User is presented with a default list of instruments which are pretrained to predict the daily returns.\n",
    "3. User selects the instrument for which they would like to see the predictions.\n",
    "4. User is shown the prediction for the current Month, Week and Day.\n",
    "5. User can add or delete an instrument to their watchlist.\n",
    "6. Given the list of instruments, the user can see thumbnail views of all predictions.\n",
    "   - Instrument name, Month, Week and Day predictions are shown.\n",
    "7. Cross market analysis is also shown for the selected instrument.\n",
    "   - User can see which other instruments are correlating and cross-correlating between the selected instrument and other instruments.\n",
    "8. User can also see the predictions for the selected instrument for the current Month, Week and Day.\n",
    "   - User can sort the list based on the strength of prediction values adding up Month/Week/Day predictions."
   ],
   "id": "8779c24f10ebe3d3"
  },
  {
   "metadata": {},
   "cell_type": "markdown",
   "source": [
    "### Technologies\n",
    "\n",
    "- StreamLit and StreamLit-Pydantic - For the User Interface\n",
    "- StreamLit Lightweight Charts - For displaying the predictions\n",
    "- PricePredictor Class - For making predictions\n",
    "- statsmodels - For Time Series Analysis\n",
    "- Screen Scraper - For fetching the data from other sites, if required. Financials, News etc.\n",
    "- Async Threads - Use ncurrent.futures.ThreadPoolExecutor() for async operations\n",
    "   - Fetching data, doing the predictions, and additional operations can be done in parallel.\n",
    "   - Is it possible to update the session_state dataframe to highlight processed/unprocessed and in-progress items?  \n",
    "     - This does not seem possible with the current streamlit.dataframe."
   ],
   "id": "64fe284b70f46c94"
  },
  {
   "metadata": {},
   "cell_type": "markdown",
   "source": [
    "### Operations\n",
    "\n",
    "   - Get list of most traded instruments\n",
    "   - Generage predictions for the instruments as needed\n",
    "   - List the instruments sorted by the strength of the predictions\n",
    "     - Potential Components\n",
    "       - Weekly Prediction\n",
    "       - Day Prediction\n",
    "       - Seasonal Prediction\n",
    "   - Perform instrument cross correlation analysis\n"
   ],
   "id": "f9481c9a86ea7bc6"
  },
  {
   "metadata": {},
   "cell_type": "markdown",
   "source": [
    "### Async Processing\n",
    "\n",
    "   - Keeping async processes running in the background between st.rerun() calls, requires running the async process outside of the scope of the __main__ block.\n",
    "   - Our background process needs to updates the st.progress() bar, within the scope of the __main__ block, which means that it will get destroyed when the st.rerun() is called in the __main__ block.\n",
    "Upon an st.rerun() within the __main__ block, we need to check if the async process is running.\n",
    "   - If it is running, we need to send it a new st.progress() bar to update.\n",
    "   - Within the async process, we need to check if the st.progress() bar is still valid.\n",
    "   - If it is not valid, we need to wait for a message from the __main__ block that contains a new st.progress() bar.\n",
    "   - A simpler approach is to keep the st.progress() bar in the st.session_state object.\n",
    "   - We can try this approach first, and if it fails, we can try the more complex approach.\n"
   ],
   "id": "d6e342fd966ed515"
  },
  {
   "metadata": {},
   "cell_type": "markdown",
   "source": [
    "### Needed: Async Progress Bar\n",
    "\n",
    "   - The main problem is that the progress bar is not built for async operations.\n",
    "      - To make the progress bar work with async operations, it needs to be updated\n",
    "        such that it can call an that it passes itself to, the async function.\n",
    "      - This means that the progress bar needs to be held in the session_state object\n",
    "        such that it is not destroyed when the main thread is rerun, and the\n",
    "        progress bar itself needs to be able to update itself in an async manner.\n",
    "\n",
    "#### Function Signatures\n",
    "\n",
    "   [Created GitHub issue #9310https](https://github.com/streamlit/streamlit/issues/9310)\n",
    "\n",
    "   - async_progress(ss_name='async_prog_bar', async_func=async_func, af_args=[af_args], af_kwargs={af_kwargs})\n",
    "       - The async_progress object upon instantiation should check for existing state in the session_state object and update itself accordingly.\n",
    "       - Then it should spawn an async thread within the __main__ block that periodically updates the progress bar data in the session_state object.\n",
    "       - The async thread should stop if it can no-longer find it's associated data in the session_state object.\n",
    "       - The async thread should also enable a url (http://localhost:9504/async/<session_id>/<element_name>) to receive update requests from an async java script that is associated to the progress bar element on the web page, which it periodically updates.\n",
    "   - async_func(ss_prog_bar: str, *args, **kwargs) \n",
    "       - async_func must be async ie. 'async def async_func()'\n",
    "       - async_func modifies the progress bar by referencing and updating the ss_prog_bar element the session_state object.\n",
    "       - if async_func is itself generates threads, then only the main thread should update the progress bar.\n",
    "       - async_func should stop if it can no-longer find it's associated progress-bar data in the session_state object.\n",
    "\n",
    "#### async_progress annotations\n",
    "\n",
    "   - @st.async_progress\n",
    "      - Indicates that the function is an async_progress function.\n",
    "      - Validates and/or sets the function to be async.\n",
    "\n"
   ],
   "id": "2ff629f903f8e7c6"
  },
  {
   "metadata": {},
   "cell_type": "markdown",
   "source": [
    "### Gotta live with a blocking progress bar for now\n",
    "\n",
    "   - Pre process symbols, prep & save the ML models, generate charts, etc.\n",
    "      - Save Weekly bars, Weekly UP/Down for weekly correlations\n",
    "      - Save Daily bars, Daily UP/Down for daily correlations\n",
    "      - Save last 2 seasonality points, Daily & Weekly for correlation\n",
    "      - Save last 2 prediction points, Daily & Weekly for correlation\n",
    "      - Save latest yahoo ticker data for the instrument\n",
    "   - Generate a symbols list as each symbol is processed.\n",
    "   - Store data to a SqlLite3 database.\n",
    "   "
   ],
   "id": "458d51466ab1aac3"
  },
  {
   "metadata": {},
   "cell_type": "markdown",
   "source": "",
   "id": "cf6b6b87910f3474"
  }
 ],
 "metadata": {
  "kernelspec": {
   "display_name": "Python 3",
   "language": "python",
   "name": "python3"
  },
  "language_info": {
   "codemirror_mode": {
    "name": "ipython",
    "version": 2
   },
   "file_extension": ".py",
   "mimetype": "text/x-python",
   "name": "python",
   "nbconvert_exporter": "python",
   "pygments_lexer": "ipython2",
   "version": "2.7.6"
  }
 },
 "nbformat": 4,
 "nbformat_minor": 5
}
