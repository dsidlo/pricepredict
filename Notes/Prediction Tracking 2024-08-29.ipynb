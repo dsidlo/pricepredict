{
 "cells": [
  {
   "metadata": {},
   "cell_type": "markdown",
   "source": [
    "# Prediction Tracking 2024-08-29\n",
    "\n",
    "Track the performance of the predictions made on 2024-08-29.\n",
    "Within the next 3 days to a week, will predicted Longs move up, and will predicted Shorts move down?\n"
   ],
   "id": "36b9dec05a2df488"
  },
  {
   "metadata": {},
   "cell_type": "markdown",
   "source": [
    "```text\n",
    "----------------------------\n",
    "Top 10 Long Opportunities...\n",
    "----------------------------\n",
    "Ticker: CL,    Strength: 4.1364, Prediction Rank: 5.0, Seasonality: 6, Seasonal Correlation 0.5454545454545454\n",
    "Ticker: BRK-B, Strength: 3.7727, Prediction Rank: 4.0, Seasonality: 6, Seasonal Correlation 0.5909090909090909\n",
    "Ticker: FIS,   Strength: 3.6364, Prediction Rank: 4.0, Seasonality: 6, Seasonal Correlation 0.5454545454545454\n",
    "Ticker: SPGI,  Strength: 3.3545, Prediction Rank: 3.0, Seasonality: 6, Seasonal Correlation 0.6181818181818182\n",
    "Ticker: PSA,   Strength: 3.3273, Prediction Rank: 3.0, Seasonality: 6, Seasonal Correlation 0.6090909090909091\n",
    "Ticker: RTX,   Strength: 3.1364, Prediction Rank: 3.0, Seasonality: 6, Seasonal Correlation 0.5454545454545454\n",
    "Ticker: CCI,   Strength: 3.1364, Prediction Rank: 3.0, Seasonality: 6, Seasonal Correlation 0.5454545454545454\n",
    "Ticker: MO,    Strength: 2.8818, Prediction Rank: 2.0, Seasonality: 6, Seasonal Correlation 0.6272727272727273\n",
    "Ticker: MA,    Strength: 2.7455, Prediction Rank: 2.0, Seasonality: 6, Seasonal Correlation 0.5818181818181818\n",
    "Ticker: LMT,   Strength: 2.7455, Prediction Rank: 2.0, Seasonality: 6, Seasonal Correlation 0.5818181818181818\n",
    "-----------------------------\n",
    "Top 10 Short Opportunities...\n",
    "-----------------------------\n",
    "Ticker: NVDA, Strength:   -1.3, Prediction Rank:  3.0, Seasonal Rank: -11, Seasonal Correlation 0.509090909090909\n",
    "Ticker: VZ,   Strength:   -0.5, Prediction Rank: -1.0, Seasonal Rank:   0, Seasonal Correlation 0.5181818181818182\n",
    "Ticker: EOG,  Strength:   -0.5, Prediction Rank: -4.0, Seasonal Rank:   6, Seasonal Correlation 0.5\n",
    "Ticker: XOM,  Strength: 0.0818, Prediction Rank: -3.0, Seasonal Rank:   6, Seasonal Correlation 0.5272727272727272\n",
    "Ticker: ALKS, Strength: 0.1091, Prediction Rank: -3.0, Seasonal Rank:   6, Seasonal Correlation 0.5363636363636364\n",
    "Ticker: NEE,  Strength: 0.2818, Prediction Rank: -2.0, Seasonal Rank:   6, Seasonal Correlation 0.42727272727272725\n",
    "Ticker: ADM,  Strength: 0.3364, Prediction Rank: -2.0, Seasonal Rank:   6, Seasonal Correlation 0.44545454545454544\n",
    "Ticker: CVX,  Strength: 0.4455, Prediction Rank: -2.0, Seasonal Rank:   6, Seasonal Correlation 0.4818181818181818\n",
    "Ticker: PG,   Strength: 0.4727, Prediction Rank: -2.0, Seasonal Rank:   6, Seasonal Correlation 0.4909090909090909\n",
    "Ticker: APTV, Strength: 0.4727, Prediction Rank: -2.0, Seasonal Rank:   6, Seasonal Correlation 0.4909090909090909\n",
    "```"
   ],
   "id": "6dfd3b252f53696c"
  },
  {
   "metadata": {},
   "cell_type": "markdown",
   "source": [
    "Create a table were we can track the performance of the predictions made on 2024-08-29.\n",
    "\n",
    "\n",
    "### *Longs...*\n",
    "\n",
    "| Ticker | Success | Notes | \n",
    "| :----- |:-------:|:------|\n",
    "| CL     |         |       |\n",
    "| BRK-B  |         |       |\n",
    "| FIS    |         |       |\n",
    "| SPGI   |         |       |\n",
    "| PSA    |         |       |\n",
    "| RTX    |         |       |\n",
    "| CCI    |         |       |\n",
    "| MO     |         |       |\n",
    "| MA     |         |       |\n",
    "| LMT    |         |       |\n",
    "\n",
    "\n",
    "### *Shorts...*\n",
    "\n",
    "| Ticker | Success | Notes | \n",
    "| :----- | :-----: | :---- |\n",
    "| NVDA   |         |       |\n",
    "| VZ     |         |       |\n",
    "| EOG    |         |       |\n",
    "| XOM    |         |       |\n",
    "| ALKS   |         |       |\n",
    "| NEE    |         |       |\n",
    "| ADM    |         |       |\n",
    "| CVX    |         |       |\n",
    "| PG     |         |       |\n",
    "| APTV   |         |       |\n"
   ],
   "id": "2f8617cb47da3ad1"
  },
  {
   "metadata": {},
   "cell_type": "markdown",
   "source": "",
   "id": "442cb22e603f93e8"
  },
  {
   "metadata": {},
   "cell_type": "markdown",
   "source": [
    "2024/09/25\n",
    "\n",
    "### Top 10 Longs\n",
    "\n",
    "| Ticker                        | Daily/Weekly Trend | Weekly Strength | Daily Strength |\n",
    "|:------:| :-----------------: |:---------------:|:--------------:|\n",
    "| XOM\t                          |\tD:u - W:u |     \t4.3714     |    \t4.6364     |\n",
    "| JD\t \t                         | D:u - W:u\t|     4.1571      |    \t4.5000     |\n",
    "| LMT\t                          |\tD:u - W:u |     \t1.0714     |    \t4.1636     |\n",
    "| CMCSA\t                        |\tD:u - W:u |     \t2.8714     |    \t4.1091     |\n",
    "| XAB=F\t |\tD:u - W:u |     \t4.5429     |    \t3.4727     |\n",
    "| TSLA\t |\tD:u - W:u |     \t3.0143     |    \t3.4727     |\n",
    "| SYY\t |\tD:u - W:d |    \t-1.1286     |    \t3.2182     |\n",
    "| CL\t |\tD:u - W:d |    \t-1.9000     |    \t3.1636     |\n",
    "| HD\t |\tD:u - W:u |     \t3.3714     |    \t3.1364     |\n",
    "| ITW\t |\tD:u - W:u |     \t2.2571     |    \t3.1091     |\n",
    "\n",
    "### Top 10 Shorts\n",
    "\n",
    "| Ticker                        | Daily/Weekly Trend | Weekly Strength | Daily Strength |\n",
    "|:------:| :-----------------: |:---------------:|:--------------:|\n",
    "|BA\t| \tD:d - W:u |     \t7.0429     |    \t-3.5818    |\n",
    "|EL\t| \tD:d - W:u |     \t7.0429     |    \t-2.0500    |\n",
    "|EURUSD=X\t| \tD:d - W:u |     \t3.8714     |    \t-0.7105    |\n",
    "|CSX\t| \tD:d - W:u |     \t7.1000     |    \t-0.6091    |\n",
    "|JNJ\t| \tD:d - W:d |    \t-0.5714     |    \t-0.5000    |\n",
    "|UNH\t| \tD:f - W:d |    \t-0.8429     |    \t-0.0818    |\n",
    "\n",
    "\n",
    "\n"
   ],
   "id": "6b0f0b7c0d7ab188"
  },
  {
   "metadata": {},
   "cell_type": "markdown",
   "source": "",
   "id": "bfb959a467d1b87b"
  }
 ],
 "metadata": {
  "kernelspec": {
   "display_name": "Python 3",
   "language": "python",
   "name": "python3"
  },
  "language_info": {
   "codemirror_mode": {
    "name": "ipython",
    "version": 2
   },
   "file_extension": ".py",
   "mimetype": "text/x-python",
   "name": "python",
   "nbconvert_exporter": "python",
   "pygments_lexer": "ipython2",
   "version": "2.7.6"
  }
 },
 "nbformat": 4,
 "nbformat_minor": 5
}
