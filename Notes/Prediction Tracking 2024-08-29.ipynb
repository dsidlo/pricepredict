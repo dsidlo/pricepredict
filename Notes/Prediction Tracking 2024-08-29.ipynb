{
 "cells": [
  {
   "metadata": {},
   "cell_type": "markdown",
   "source": [
    "# Prediction Tracking 2024-08-29\n",
    "\n",
    "Track the performance of the predictions made on 2024-08-29.\n",
    "Within the next 3 days to a week, will predicted Longs move up, and will predicted Shorts move down?\n"
   ],
   "id": "36b9dec05a2df488"
  },
  {
   "metadata": {},
   "cell_type": "markdown",
   "source": [
    "```text\n",
    "----------------------------\n",
    "Top 10 Long Opportunities...\n",
    "----------------------------\n",
    "Ticker: CL,    Strength: 4.1364, Prediction Rank: 5.0, Seasonality: 6, Seasonal Correlation 0.5454545454545454\n",
    "Ticker: BRK-B, Strength: 3.7727, Prediction Rank: 4.0, Seasonality: 6, Seasonal Correlation 0.5909090909090909\n",
    "Ticker: FIS,   Strength: 3.6364, Prediction Rank: 4.0, Seasonality: 6, Seasonal Correlation 0.5454545454545454\n",
    "Ticker: SPGI,  Strength: 3.3545, Prediction Rank: 3.0, Seasonality: 6, Seasonal Correlation 0.6181818181818182\n",
    "Ticker: PSA,   Strength: 3.3273, Prediction Rank: 3.0, Seasonality: 6, Seasonal Correlation 0.6090909090909091\n",
    "Ticker: RTX,   Strength: 3.1364, Prediction Rank: 3.0, Seasonality: 6, Seasonal Correlation 0.5454545454545454\n",
    "Ticker: CCI,   Strength: 3.1364, Prediction Rank: 3.0, Seasonality: 6, Seasonal Correlation 0.5454545454545454\n",
    "Ticker: MO,    Strength: 2.8818, Prediction Rank: 2.0, Seasonality: 6, Seasonal Correlation 0.6272727272727273\n",
    "Ticker: MA,    Strength: 2.7455, Prediction Rank: 2.0, Seasonality: 6, Seasonal Correlation 0.5818181818181818\n",
    "Ticker: LMT,   Strength: 2.7455, Prediction Rank: 2.0, Seasonality: 6, Seasonal Correlation 0.5818181818181818\n",
    "-----------------------------\n",
    "Top 10 Short Opportunities...\n",
    "-----------------------------\n",
    "Ticker: NVDA, Strength:   -1.3, Prediction Rank:  3.0, Seasonal Rank: -11, Seasonal Correlation 0.509090909090909\n",
    "Ticker: VZ,   Strength:   -0.5, Prediction Rank: -1.0, Seasonal Rank:   0, Seasonal Correlation 0.5181818181818182\n",
    "Ticker: EOG,  Strength:   -0.5, Prediction Rank: -4.0, Seasonal Rank:   6, Seasonal Correlation 0.5\n",
    "Ticker: XOM,  Strength: 0.0818, Prediction Rank: -3.0, Seasonal Rank:   6, Seasonal Correlation 0.5272727272727272\n",
    "Ticker: ALKS, Strength: 0.1091, Prediction Rank: -3.0, Seasonal Rank:   6, Seasonal Correlation 0.5363636363636364\n",
    "Ticker: NEE,  Strength: 0.2818, Prediction Rank: -2.0, Seasonal Rank:   6, Seasonal Correlation 0.42727272727272725\n",
    "Ticker: ADM,  Strength: 0.3364, Prediction Rank: -2.0, Seasonal Rank:   6, Seasonal Correlation 0.44545454545454544\n",
    "Ticker: CVX,  Strength: 0.4455, Prediction Rank: -2.0, Seasonal Rank:   6, Seasonal Correlation 0.4818181818181818\n",
    "Ticker: PG,   Strength: 0.4727, Prediction Rank: -2.0, Seasonal Rank:   6, Seasonal Correlation 0.4909090909090909\n",
    "Ticker: APTV, Strength: 0.4727, Prediction Rank: -2.0, Seasonal Rank:   6, Seasonal Correlation 0.4909090909090909\n",
    "```"
   ],
   "id": "6dfd3b252f53696c"
  },
  {
   "metadata": {},
   "cell_type": "markdown",
   "source": [
    "Create a table were we can track the performance of the predictions made on 2024-08-29.\n",
    "\n",
    "\n",
    "### *Longs...*\n",
    "\n",
    "| Ticker | Success | Notes | \n",
    "| :----- |:-------:|:------|\n",
    "| CL     |         |       |\n",
    "| BRK-B  |         |       |\n",
    "| FIS    |         |       |\n",
    "| SPGI   |         |       |\n",
    "| PSA    |         |       |\n",
    "| RTX    |         |       |\n",
    "| CCI    |         |       |\n",
    "| MO     |         |       |\n",
    "| MA     |         |       |\n",
    "| LMT    |         |       |\n",
    "\n",
    "\n",
    "### *Shorts...*\n",
    "\n",
    "| Ticker | Success | Notes | \n",
    "| :----- | :-----: | :---- |\n",
    "| NVDA   |         |       |\n",
    "| VZ     |         |       |\n",
    "| EOG    |         |       |\n",
    "| XOM    |         |       |\n",
    "| ALKS   |         |       |\n",
    "| NEE    |         |       |\n",
    "| ADM    |         |       |\n",
    "| CVX    |         |       |\n",
    "| PG     |         |       |\n",
    "| APTV   |         |       |\n"
   ],
   "id": "2f8617cb47da3ad1"
  }
 ],
 "metadata": {
  "kernelspec": {
   "display_name": "Python 3",
   "language": "python",
   "name": "python3"
  },
  "language_info": {
   "codemirror_mode": {
    "name": "ipython",
    "version": 2
   },
   "file_extension": ".py",
   "mimetype": "text/x-python",
   "name": "python",
   "nbconvert_exporter": "python",
   "pygments_lexer": "ipython2",
   "version": "2.7.6"
  }
 },
 "nbformat": 4,
 "nbformat_minor": 5
}
