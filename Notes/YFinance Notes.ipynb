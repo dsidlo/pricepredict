{
 "cells": [
  {
   "metadata": {},
   "cell_type": "markdown",
   "source": [
    "# YFinance Notes\n",
    "\n"
   ],
   "id": "5bb62ad4ed904324"
  },
  {
   "metadata": {},
   "cell_type": "markdown",
   "source": [
    "## Index Data... Definitions\n",
    "\n",
    "### recommendationMean\n",
    "In the context of Yahoo Finance, the \"recommendationMean\" generally refers to the average analyst recommendation for a particular stock or financial instrument. This metric provides a snapshot of the overall sentiment among financial analysts regarding the stock's potential performance. Here's a breakdown of what this means:\n",
    "\n",
    "Understanding \"recommendationMean\":\n",
    "\n",
    "Analyst Recommendations:\n",
    "   - Financial analysts from various institutions often review financial instruments like stocks and provide their recommendations based on their analysis. These recommendations usually fall into categories like \"Buy,\" \"Hold,\" \"Sell,\" etc.\n",
    "\n",
    "Numerical Representation:\n",
    "   - The \"recommendationMean\" translates these categorical recommendations into numerical values to compute an average. For example:\n",
    "\n",
    "      - \"Strong Buy\" might be represented as 1\n",
    "      - \"Buy\" as 2\n",
    "      - \"Hold\" as 3\n",
    "      - \"Sell\" as 4\n",
    "      - \"Strong Sell\" as 5\n",
    "\n",
    "Interpretation:\n",
    "   - A lower \"recommendationMean\" value suggests a more positive outlook for the stock (e.g., leaning towards \"Buy\" or \"Strong Buy\"), while a higher value suggests a more negative evaluation (e.g., \"Sell\" or \"Strong Sell\").\n",
    "   - The exact scale and interpretation can vary slightly based on the platform or data source, but this numeric representation helps users interpret the general consensus quantitatively.\n",
    "\n",
    "Uses:\n",
    "   - Investors use the \"recommendationMean\" to gauge market sentiment and compare different stocks. It provides a quick reference to understand whether a stock is generally recommended for buying or selling by analysts.\n",
    "\n",
    "It's important to remember that while analyst recommendations can provide insights, investment decisions should always be based on a combination of research, including financial fundamentals, market conditions, and individual investment strategies.\n",
    "\n",
    "\n"
   ],
   "id": "572e70e8a171a4e3"
  },
  {
   "metadata": {},
   "cell_type": "markdown",
   "source": "",
   "id": "f17b14e5b3de9af6"
  },
  {
   "metadata": {},
   "cell_type": "markdown",
   "source": [
    "## Change to YFinance Periods...\n",
    "\n",
    "1d, 5d, 1mo, 3mo, 6mo, 1y, 2y, 5y, 10y, ytd, max\n",
    "\n",
    "  - Use \"1d\" instead of \"D\"\n",
    "  - Use \"5d\" instead of \"W\"\n",
    "\n"
   ],
   "id": "787f302c18540222"
  }
 ],
 "metadata": {
  "kernelspec": {
   "display_name": "Python 3",
   "language": "python",
   "name": "python3"
  },
  "language_info": {
   "codemirror_mode": {
    "name": "ipython",
    "version": 2
   },
   "file_extension": ".py",
   "mimetype": "text/x-python",
   "name": "python",
   "nbconvert_exporter": "python",
   "pygments_lexer": "ipython2",
   "version": "2.7.6"
  }
 },
 "nbformat": 4,
 "nbformat_minor": 5
}
