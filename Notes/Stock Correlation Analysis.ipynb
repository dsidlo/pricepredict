{
 "cells": [
  {
   "metadata": {},
   "cell_type": "markdown",
   "source": "# Stock Correlation Analysis",
   "id": "896baed746e34071"
  },
  {
   "metadata": {},
   "cell_type": "markdown",
   "source": [
    "# Introduction\n",
    "\n",
    "   - How can we find highly cross correlated stocks given a daily period?\n",
    "   - We can use the pearsonr function in numpy to find the correlation between two stocks.\n",
    "      - pearsonr(x, y) returns a tuple containing the Pearson correlation coefficient and the p-value for testing non-correlation.\n",
    "      - The Pearson correlation coefficient measures the linear relationship between two datasets.\n",
    "      - Pearson may not be the best measure as it would produce a 0 correlation for 2 sine wave that are out of phase.\n",
    "   - We can use the Spearman correlation. It assesses the strength and direction of a monotonic relationship between two variables, meaning that as one variable increases (or decreases), the other variable tends to increase (or decrease) in a consistent manner.\n",
    "   - We can also use FFT to find the correlation between two signals. This would give us the phase information about price movement.\n",
    "   - We can use the cross-correlation function in numpy to find the correlation between two signals.\n",
    "      - https://www.scicoding.com/cross-correlation-in-python-3-popular-packages/\n",
    "   - Given a list of stocks, we can generate all combinatorial pairs using itertools.\n",
    "   - As an option, we can limit the combinatorial pairs to a stocks within a given price and trading range.\n",
    "   - Also consider the alpha and beta values of the stocks. Is good Alpha vs Bad Alpha a good correlation pair?\n",
    "   - Simple daily trend correlation analysis simply looks at the number of times the period is a down day vs an up day as the correlation between two stocks."
   ],
   "id": "518419618a9a87c"
  },
  {
   "metadata": {},
   "cell_type": "markdown",
   "source": [
    "## FFT Analysis\n",
    "\n",
    "What numpy functions would be useful in determining the phase difference between 2 time series arrays that are out of phase?\n",
    "Based on the provided search results, the following NumPy functions can be useful in determining the phase difference between two time series arrays that are out of phase:\n",
    "\n",
    "   - numpy.fft.fft(): Compute the Fast Fourier Transform (FFT) of both time series arrays. This will provide the frequency domain representation of the signals, allowing you to analyze their phase relationships.\n",
    "   - numpy.angle(): Calculate the phase angle (in radians) of the complex FFT coefficients. This will give you the phase information for each frequency component.\n",
    "   - numpy.unwrap(): Apply this function to the phase angles to handle phase wrapping (i.e., phase values that exceed 2π or -π).\n",
    "   - numpy.diff(): Use this function to compute the differences between consecutive phase values, which can help identify the phase shift between the two signals.\n",
    "   - numpy.correlate(): Alternatively, you can use the cross-correlation function to estimate the phase shift between the two signals. This method is particularly useful when the signals are not sinusoidal or have non-linear relationships.\n",
    "\n",
    "Additionally, you may want to consider the following:\n",
    "   - Filtering: Apply filters (e.g., Butterworth or Gaussian filters) to the time series data to reduce noise and improve the accuracy of the phase difference estimation.\n",
    "   - Normalization: Normalize the time series data to ensure that the phase differences are measured relative to a common reference point.\n",
    "   - Time alignment: Ensure that the time series arrays are properly aligned before computing the phase difference. This can be done using techniques like interpolation or resampling.\n",
    "By combining these NumPy functions and considerations, you can effectively determine the phase difference between two time series arrays that are out of phase.\n",
    "<p>\n",
    "**Follow up**\n",
    "\n",
    "   - What is the optimal window size for applying FFT to noisy time series data?\n",
    "   - How can I account for non-stationarity in the time series data when estimating phase differences?\n",
    "   - Are there any NumPy functions or libraries that can efficiently compute phase differences between large datasets?\n",
    "\n"
   ],
   "id": "98985704b57446bd"
  },
  {
   "metadata": {},
   "cell_type": "markdown",
   "source": [
    "# Alpha and Beta Analysis\n",
    "**What the alpha and beta of a stock?**\n",
    "\n",
    "<br>Alpha (α) and Beta (β) are two fundamental metrics used to evaluate the performance and risk of a stock or investment portfolio.\n",
    "\n",
    "   - Alpha (α): Alpha measures the excess return of an investment relative to a benchmark index, such as the S&P 500. It represents the investment’s ability to generate returns above or below the market average, after adjusting for market-related volatility and random fluctuations. A positive alpha indicates that the investment has outperformed the benchmark, while a negative alpha indicates underperformance.\n",
    "\n",
    "   - Beta (β): Beta measures the volatility or systematic risk of an investment relative to the broader market. A beta of:\n",
    "<p>\n",
    "\n",
    "   - Less than 1 indicates that the stock is less volatile than the market (less risky).\n",
    "   - Equal to 1 indicates that the stock is as volatile as the market (neutral risk).\n",
    "   - Greater than 1 indicates that the stock is more volatile than the market (more risky).\n",
    "For example, if a stock has a beta of 1.5, it means that its price will move 50% more than the overall market.\n",
    "<p>\n",
    "\n",
    "**Key Takeaways:**\n",
    "\n",
    "   - Alpha measures relative return, while beta measures relative volatility.\n",
    "   - A positive alpha indicates outperformance, while a negative alpha indicates underperformance.\n",
    "   - A beta of less than 1 indicates lower volatility, while a beta greater than 1 indicates higher volatility.\n",
    "Understanding alpha and beta helps investors assess the potential returns and risks of a stock or portfolio, enabling informed investment decisions.\n",
    "<p>\n",
    "\n",
    "**Follow up**\n",
    "   - How do alpha and beta interact with each other in a portfolio's overall performance?\n",
    "   - Can alpha and beta be used to identify undervalued or overvalued stocks and make more informed trading decisions?\n",
    "   - What are the implications of a high alpha and low beta combination for investors seeking both returns and stability?\n"
   ],
   "id": "c5baa04694df5841"
  },
  {
   "metadata": {},
   "cell_type": "markdown",
   "source": [
    "## Current Prediction Strength Calculation\n",
    "\n",
    "The current Prediction Strength (PS) calculation is based on the following 2 main components.\n",
    "\n",
    "   - The measure of the relative strength of the current prediction delta. This is done by ranking the current prediction against the previous predictions from 1 to 10.\n",
    "   - The second component is made up of two parts. The first part is the raking of the last seasonality delta against prior seasonality deltas. The second part is the ranking of the last seasonality delta against the current prediction delta. And the second part is the correlation between price deltas and seasonality deltas. This value (in the highest levels of correlation is about 60%. This value is multiplied by the first part to get the final seasonality delta value.\n",
    "   - The prediction rank (first component) is added to the seasonality value (second component) to get the final Prediction-Strength value.\n",
    "   - Because the seasonality rank is multiplied by the correlation value, the seasonality rank's weight is increased as the correlation value increases.\n",
    "   - We also apply the direction of the delta by multiplying the Prediction-Strength value by the sign of the current prediction delta. This is done to the seasonality value as well. This is done to account for the direction of the price movement. And to account for the direction of the seasonality movement.\n",
    "   - Finally, we flip the sign of of the Prediction-Strength value and the seasonality value  in order to get the final Prediction-Strength value that is positive for Long and negative for Short opportunities. The final value is also divided by 2 (arbitrarily) to get a smaller value that is easier to work with, and that does not affect the ranking of the opportunities.\n",
    "   - Note: Ranking is done using the abs value of the prediction-delta and seasonality-delta values, as we want to rank the size of the movement and not the direction of the movement. Thus the need to reapply the direction of the delta to the final Prediction-Strength value via the sign of the delta.\n"
   ],
   "id": "4465f7467319878a"
  },
  {
   "metadata": {},
   "cell_type": "markdown",
   "source": [
    "# COT Reports\n",
    "\n",
    "Use the cot-report to do a Momentum check or as additional data added to the week predictions model. The cots report indicate where companies are heaging. by show the volume of longs vers shorts within a given sector.\n"
   ],
   "id": "9fda3303a19f11e9"
  }
 ],
 "metadata": {
  "kernelspec": {
   "display_name": "Python 3",
   "language": "python",
   "name": "python3"
  },
  "language_info": {
   "codemirror_mode": {
    "name": "ipython",
    "version": 2
   },
   "file_extension": ".py",
   "mimetype": "text/x-python",
   "name": "python",
   "nbconvert_exporter": "python",
   "pygments_lexer": "ipython2",
   "version": "2.7.6"
  }
 },
 "nbformat": 4,
 "nbformat_minor": 5
}
