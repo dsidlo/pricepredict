{
 "cells": [
  {
   "metadata": {},
   "cell_type": "markdown",
   "source": "# AI Augmented Trading Plan",
   "id": "fbb7366d9a41ecc1"
  },
  {
   "metadata": {},
   "cell_type": "markdown",
   "source": [
    "## Introduction\n",
    "\n",
    "The AI price predictor is a good way to determine if an instrument is going to make a big move.\n",
    "<br>\n",
    "We should leverage this tool to predetermine the next days instruments to engage in.\n",
    "\n",
    "Look for the following (Instruments to watch closely):\n",
    "  - There is a recent cross between the Actual and Predicted prices.\n",
    "  - The predicted price is significantly above or below the actual price, as compared to its trading range.\n"
   ],
   "id": "a29a8d81edb51ac"
  },
  {
   "metadata": {},
   "cell_type": "markdown",
   "source": [
    "## NY Trading times\n",
    "\n",
    "The New York Stock Exchange (NYSE) and Nasdaq are open for regular trading from:\n",
    "\n",
    "- Monday to Friday: 9:30 a.m. (6:30 am PST) to 4:00 p.m. (1:00 pm PST) Eastern Time (GMT-04:00)\n",
    "- Additionally, there are:\n",
    "\n",
    "Pre-market trading hours: 6:30 a.m. (3:30 am PST) to 9:30 a.m. (6:30 am PST) Eastern Time\n",
    "<br>After-hours trading hours: 4:00 p.m. (1:00 pm PST) to 8:00 p.m. (5:30 pm PST) Eastern Time\n",
    "<br>Please note that these times are subject to change on stock market holidays, when the exchanges may be closed or operate on a reduced schedule. Some online brokers may also offer extended hours for retail investors to place trades.\n"
   ],
   "id": "8328e9505d566bef"
  },
  {
   "metadata": {},
   "cell_type": "markdown",
   "source": [
    "### Components of the Trading Plan\n",
    "\n",
    "1. Data Collection\n",
    "   1. 100+ Top Stocks\n",
    "      1. Historical Data\n",
    "      2. Balance Sheets and Income Statements\n",
    "      3. Financial Info\n",
    "         1. Short Shares\n",
    "         2. Beta\n",
    "         3. Board Member Shares\n",
    "         4. Sock Splits\n",
    "      4. The latest news reports about the company (Web Agent)\n",
    "   2. Key Indexes\n",
    "   3. Model Training\n",
    "   4. Predictive information\n",
    "2. Analysis\n",
    "   1. Prediction, Seasonality, Correlations\n",
    "   2. LLM Sentiment Analysis\n",
    "   3. Scanning for Opportunities\n",
    "   4. LLM Trading Plan\n",
    "      1. Entry based on Weekly and Daily Price Movements\n",
    "         1. Images vs OHLC Data\n",
    "      2. Trailing Stop Suggestion\n",
    "      3. Exit Suggestion\n",
    "3. Automated Trading\n",
    "   1. Trading Agent\n",
    "   2. Risk Management Agent\n",
    "   3. Hedging Agent\n"
   ],
   "id": "7d26847b7d2e4ca"
  },
  {
   "metadata": {},
   "cell_type": "markdown",
   "source": [
    "### LLM Prompts\n",
    "\n",
    "#### Balance Sheet and Income Statement Analysis\n",
    "\n",
    "**Prompt:** Please perform a critical analyze the following balance sheets and income statements and give me a review of the company from a financial perspecive and be critical of values from period to period and consider if missing values indicate mis-reporting of data. And, add a summary of sentiment analysis of the company from the viewpoint of board members, from the viewpoint of shareholders, and from the viewpoint of short sellers. Finally, create a sentiment analysis score for the company from 1 to 5, where 1 is very negative and 5 is very positive.\n",
    "\n",
    "\n"
   ],
   "id": "30644e9c5042caa"
  },
  {
   "metadata": {},
   "cell_type": "markdown",
   "source": [
    "### PosgreSql Database\n",
    "\n",
    "Implement services within PostgreSql given it's amazing flexibility and scalability.\n",
    "\n",
    "#### Services\n",
    "\n",
    "- Superset\n",
    "- PostgREST\n",
    "- PostgresMl\n",
    "- TimescaleDB\n",
    "- Pg_GraphQl\n",
    "  - Create a stock network graph based on correlation and cross-correlation data.\n",
    "    - All edges\n",
    "    - Top 10 edges\n",
    " "
   ],
   "id": "8b7337b341f15b77"
  }
 ],
 "metadata": {
  "kernelspec": {
   "display_name": "Python 3",
   "language": "python",
   "name": "python3"
  },
  "language_info": {
   "codemirror_mode": {
    "name": "ipython",
    "version": 2
   },
   "file_extension": ".py",
   "mimetype": "text/x-python",
   "name": "python",
   "nbconvert_exporter": "python",
   "pygments_lexer": "ipython2",
   "version": "2.7.6"
  }
 },
 "nbformat": 4,
 "nbformat_minor": 5
}
