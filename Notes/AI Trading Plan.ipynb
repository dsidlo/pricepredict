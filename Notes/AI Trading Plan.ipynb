{
 "cells": [
  {
   "metadata": {},
   "cell_type": "markdown",
   "source": "# AI Trading Plan",
   "id": "fbb7366d9a41ecc1"
  },
  {
   "metadata": {},
   "cell_type": "markdown",
   "source": [
    "## Introduction\n",
    "\n",
    "The AI price predictor is a good way to determine if an instrument is going to make a big move.\n",
    "<br>\n",
    "We should leverage this tool to predetermine the next days instruments to engage in.\n",
    "\n",
    "Look for the following (Instruments to watch closely):\n",
    "  - There is a recent cross between the Actual and Predicted prices.\n",
    "  - The predicted price is significantly above or below the actual price, as compared to its trading range.\n"
   ],
   "id": "a29a8d81edb51ac"
  },
  {
   "metadata": {},
   "cell_type": "markdown",
   "source": [
    "## NY Trading times\n",
    "\n",
    "The New York Stock Exchange (NYSE) and Nasdaq are open for regular trading from:\n",
    "\n",
    "- Monday to Friday: 9:30 a.m. (6:30 am PST) to 4:00 p.m. (1:00 pm PST) Eastern Time (GMT-04:00)\n",
    "- Additionally, there are:\n",
    "\n",
    "Pre-market trading hours: 6:30 a.m. (3:30 am PST) to 9:30 a.m. (6:30 am PST) Eastern Time\n",
    "<br>After-hours trading hours: 4:00 p.m. (1:00 pm PST) to 8:00 p.m. (5:30 pm PST) Eastern Time\n",
    "<br>Please note that these times are subject to change on stock market holidays, when the exchanges may be closed or operate on a reduced schedule. Some online brokers may also offer extended hours for retail investors to place trades.\n"
   ],
   "id": "8328e9505d566bef"
  }
 ],
 "metadata": {
  "kernelspec": {
   "display_name": "Python 3",
   "language": "python",
   "name": "python3"
  },
  "language_info": {
   "codemirror_mode": {
    "name": "ipython",
    "version": 2
   },
   "file_extension": ".py",
   "mimetype": "text/x-python",
   "name": "python",
   "nbconvert_exporter": "python",
   "pygments_lexer": "ipython2",
   "version": "2.7.6"
  }
 },
 "nbformat": 4,
 "nbformat_minor": 5
}
