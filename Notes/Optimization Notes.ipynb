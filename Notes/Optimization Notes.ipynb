{
 "cells": [
  {
   "metadata": {},
   "cell_type": "markdown",
   "source": [
    "# Optimization Notes\n",
    "\n",
    "In it's current state, the Pride Prediction UI is a single user only app, where operations on PricePrediction object \n",
    "are held within one user-space.\n",
    "PP objects are stored to a pickle file.\n",
    "No database is used.\n",
    "\n",
    "It would make sense to move the PP objects to a database, and build a service around the use and processing of the PP objects.\n",
    "That would offload the processing from the user-space, and allow for multiple users to access the data from the same PP object.\n"
   ],
   "id": "aa92fb4708998fce"
  },
  {
   "metadata": {},
   "cell_type": "markdown",
   "source": [
    "## Walk-Forward Optimization\n",
    "\n",
    "## Ensemble Optimization\n",
    "\n",
    "## Bayesian Optimization\n"
   ],
   "id": "8d4f24f6e9a44b05"
  },
  {
   "metadata": {},
   "cell_type": "markdown",
   "source": [
    "## Multi-Day Prediction\n",
    "\n",
    "Multi-day prediction can be achieved by adding additional target columns to the LSTM input data.\n",
    "\n",
    "Just as 3 additional columns are added for the target Open, Low and Close for the next day, additional columns can be added for 2nd & 3rd to the next day's Open, Low and Close prices.\n",
    "\n"
   ],
   "id": "6bbcd37a56483564"
  }
 ],
 "metadata": {
  "kernelspec": {
   "display_name": "Python 3",
   "language": "python",
   "name": "python3"
  },
  "language_info": {
   "codemirror_mode": {
    "name": "ipython",
    "version": 2
   },
   "file_extension": ".py",
   "mimetype": "text/x-python",
   "name": "python",
   "nbconvert_exporter": "python",
   "pygments_lexer": "ipython2",
   "version": "2.7.6"
  }
 },
 "nbformat": 4,
 "nbformat_minor": 5
}
