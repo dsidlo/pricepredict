{
 "cells": [
  {
   "metadata": {},
   "cell_type": "markdown",
   "source": [
    "# ML and Buy-Sell Automation\n",
    "\n",
    "**Gather a set of indicators...**\n",
    "\n",
    "   - Bollinger Bands (Multiple Parameters)\n",
    " \n",
    "## Indicator Strategies:\n",
    " \n",
    "    - DPOC Channels (Multiple Parameters)\n",
    "        - Review NijaTrader Notes\n",
    "         \n",
    "    - Keltners and VWAP  \n",
    "        - Keltner Channels (Multiple Parameters)\n",
    "        - (50, 3.75), (50, 2.75)\n",
    "        - Volume \n",
    "        - Volume Weighted Average Price (VWAP)\n",
    "        - A Buy Signal is generated when the stock price is in the over-bought or over-sold range\n",
    "          given the Keltner Channels and the Volume is over the VWAP.  \n",
    "\n",
    "    - Bollinger Keltner Bands\n",
    "        - Bollinger Bands (Periods:20, ATR:2, DevUp:2, DevDwn:-2)\n",
    "        - Keltner Channels (Periods:20, ATR:2, DevUp:2, DevDwn:-2)\n",
    "        \n",
    "    - Stochastic Super Signals\n",
    "        - 3 Fast Stochastic Oscillators (Periods: 20, 50, 200)\n",
    "        - 1 Stochastic Oscillator (Period: 60)\n",
    "        - When there is and alignment of all 4 signals comming up from 20% or down from 80%,\n",
    "          a buy or sell signal is generated.\n",
    "        - When there is alignment of 3 signals and the stock is over-bought or over-sold given\n",
    "          other indicators such as Keltner or Bolinger Bands along with Volume over VWAP, a \n",
    "          buy or sell signal is generated."
   ],
   "id": "12da8d93344d2f08"
  },
  {
   "metadata": {},
   "cell_type": "markdown",
   "source": "",
   "id": "cd531d8c0a19e2e4"
  },
  {
   "metadata": {},
   "cell_type": "markdown",
   "source": "",
   "id": "a506ca0ac8db0292"
  }
 ],
 "metadata": {
  "kernelspec": {
   "display_name": "Python 3",
   "language": "python",
   "name": "python3"
  },
  "language_info": {
   "codemirror_mode": {
    "name": "ipython",
    "version": 2
   },
   "file_extension": ".py",
   "mimetype": "text/x-python",
   "name": "python",
   "nbconvert_exporter": "python",
   "pygments_lexer": "ipython2",
   "version": "2.7.6"
  }
 },
 "nbformat": 4,
 "nbformat_minor": 5
}
