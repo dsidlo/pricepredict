{
 "cells": [
  {
   "metadata": {},
   "cell_type": "markdown",
   "source": [
    "# Near Realtime Prediction\n",
    "\n",
    "Turns out that 5min interval data can be returned from the yahoo finance API.\n"
   ],
   "id": "84536353cc516968"
  },
  {
   "metadata": {},
   "cell_type": "markdown",
   "source": [
    "### Added 1hr, 5min and 1min periods to the PricePrediction class\n",
    "\n",
    "Create an app that runs as a service.\n",
    "- It takes a list of stock symbols and generates PricePrediction objects for each symbol.\n",
    "- It trains each symbol's PricePrediction object with the 1hr, 5min and 1min data.\n",
    "- Each period for a given symbol also has its own PricePrediction object.\n",
    "- Some time after the top of the 1hr, the 1hr PricePrediction objects generate a prediction\n",
    "  and generate Stock Chart with prediction data (predicted High, Low and Close).\n",
    "  - The prediction is stored to a database.\n",
    "- Stuff store to the database\n",
    "  - Symbol information from the Yahoo Finance API\n",
    "  - PricePrediction objects are stored to the database.\n",
    "  - Price Data\n",
    "  - Prediction Data (Multiple Timeframes)\n",
    "  - Charts\n",
    "  - Correlation between symbols\n",
    "- It probably makes sense to have a selected set of symbols to monitor in real time.\n",
    "- Create an app that displays the realtime charts and predictions as soon as they are available.\n",
    "- The same server should be capable of serving NinjaTrader with prediction data for any given symbol.\n",
    "  - NinjaTrader will be able to push data to the service, and get predictions back.\n"
   ],
   "id": "d41c48ced29099f2"
  },
  {
   "metadata": {},
   "cell_type": "markdown",
   "source": "",
   "id": "6636bafe8f391201"
  },
  {
   "metadata": {
    "ExecuteTime": {
     "end_time": "2024-10-17T10:52:32.533509Z",
     "start_time": "2024-10-17T10:52:32.531432Z"
    }
   },
   "cell_type": "code",
   "source": [
    "# Add libe to the Python Library Path\n",
    "import sys\n",
    "sys.path.append('./lib')\n",
    "\n",
    "from pricepredict import PricePredict\n",
    "\n"
   ],
   "id": "dc7653c915073d3f",
   "outputs": [],
   "execution_count": 3
  }
 ],
 "metadata": {
  "kernelspec": {
   "display_name": "Python 3",
   "language": "python",
   "name": "python3"
  },
  "language_info": {
   "codemirror_mode": {
    "name": "ipython",
    "version": 2
   },
   "file_extension": ".py",
   "mimetype": "text/x-python",
   "name": "python",
   "nbconvert_exporter": "python",
   "pygments_lexer": "ipython2",
   "version": "2.7.6"
  }
 },
 "nbformat": 4,
 "nbformat_minor": 5
}
