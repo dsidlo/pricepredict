{
 "cells": [
  {
   "metadata": {},
   "cell_type": "markdown",
   "source": [
    "# Prediction Benchmarking\n",
    "\n",
    "   - On a daily basis, get top 10 long predictions and top 10 short predictions.\n",
    "   - Over the next 14 Days, track the performance of these predictions.\n",
    " "
   ],
   "id": "1dcaf3189da8a799"
  },
  {
   "metadata": {},
   "cell_type": "markdown",
   "source": "",
   "id": "4b7a426ec237634a"
  }
 ],
 "metadata": {
  "kernelspec": {
   "display_name": "Python 3",
   "language": "python",
   "name": "python3"
  },
  "language_info": {
   "codemirror_mode": {
    "name": "ipython",
    "version": 2
   },
   "file_extension": ".py",
   "mimetype": "text/x-python",
   "name": "python",
   "nbconvert_exporter": "python",
   "pygments_lexer": "ipython2",
   "version": "2.7.6"
  }
 },
 "nbformat": 4,
 "nbformat_minor": 5
}
