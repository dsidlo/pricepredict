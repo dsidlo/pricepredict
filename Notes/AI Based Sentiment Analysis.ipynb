{
 "cells": [
  {
   "metadata": {},
   "cell_type": "markdown",
   "source": [
    "# AI Based Sentiment Analysis\n",
    "## Introduction\n",
    "  - Use AI Based Sentiment Analysis on Balance Sheets and Income Statements\n",
    "  - Download Quarterly Balance Sheets and Income Statements for Multiple Period\n",
    "  - Workout how to measure Stability, and Growth, Company Health, using AI\n",
    "  - Plot the measure of Stability and Growth\n",
    "  - Corporate Sentiment should be based on Real Statistics of the Company"
   ],
   "id": "c53313979ecee590"
  },
  {
   "metadata": {},
   "cell_type": "markdown",
   "source": [
    "## Example if using SEC Edgar to view a companies data...\n",
    "\n",
    "   - https://www.sec.gov/search-filings/cik-lookup\n",
    "   - https://www.sec.gov/edgar/browse/?CIK=1724521\n"
   ],
   "id": "da9effb266a3258b"
  },
  {
   "metadata": {},
   "cell_type": "markdown",
   "source": [
    "## APIs\n",
    "One should only perform 10 requests per second.\n",
    "   - https://www.sec.gov/search-filings/edgar-application-programming-interfaces\n",
    "   - https://www.sec.gov/about/webmaster-frequently-asked-questions#developers\n",
    "   - https://www.sec.gov/search-filings/edgar-search-assistance/accessing-edgar-data\n",
    "   \n",
    "An RSS feed is available for alerts on \n",
    "   - https://www.sec.gov/about/rss-feeds\n"
   ],
   "id": "6b9307edcb32487"
  },
  {
   "metadata": {},
   "cell_type": "markdown",
   "source": [
    "# Alpha and Beta of a Given Instrument\n",
    "\n",
    "*Alpha* (α) measures the excess return of an investment above its expected return, given its level of risk. It represents the value added by an investment manager or strategy, relative to a benchmark index.\n",
    "<p>\n",
    "\n",
    "*Beta* (β) measures the volatility or systematic risk of an investment relative to the broader market. It quantifies how closely an investment’s returns follow the market’s returns.\n",
    "<p>\n",
    "\n",
    "## Interpretation\n",
    "\n",
    "### Alpha:\n",
    "   - Positive alpha indicates outperformance relative to the benchmark, while negative alpha indicates underperformance.\n",
    "   - A higher alpha value indicates greater excess return above the benchmark.\n",
    "### Beta:\n",
    "   - Beta greater than 1 indicates an investment is more volatile than the market (high-risk).\n",
    "   - Beta equal to 1 indicates an investment has the same volatility as the market (neutral).\n",
    "   - Beta less than 1 indicates an investment is less volatile than the market (low-risk).\n",
    "   - Beta equal to 0 indicates an investment has no correlation with the market (e.g., a bond).\n",
    "<p>\n",
    "\n",
    "### Example\n",
    "\n",
    "<p>Suppose a stock has an alpha of 2% and a beta of 1.2. This means:\n",
    "\n",
    "   - The stock’s expected return is 2% higher than the benchmark index, given its level of risk.\n",
    "   - The stock’s volatility is 20% higher than the market’s volatility (1.2 × market volatility).\n",
    "<p>\n",
    "\n",
    "Keep in mind that alpha and beta are backward-looking measures, meaning they reflect historical performance. They do not guarantee future results.\n"
   ],
   "id": "b1c4f9c46529fa7b"
  },
  {
   "metadata": {},
   "cell_type": "code",
   "outputs": [],
   "execution_count": null,
   "source": "",
   "id": "4ad8ce3ced43a71d"
  }
 ],
 "metadata": {
  "kernelspec": {
   "display_name": "Python 3",
   "language": "python",
   "name": "python3"
  },
  "language_info": {
   "codemirror_mode": {
    "name": "ipython",
    "version": 2
   },
   "file_extension": ".py",
   "mimetype": "text/x-python",
   "name": "python",
   "nbconvert_exporter": "python",
   "pygments_lexer": "ipython2",
   "version": "2.7.6"
  }
 },
 "nbformat": 4,
 "nbformat_minor": 5
}
