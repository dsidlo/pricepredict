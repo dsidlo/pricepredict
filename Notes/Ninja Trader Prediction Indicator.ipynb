{
 "cells": [
  {
   "metadata": {},
   "cell_type": "markdown",
   "source": [
    "# Ninja Trader Prediction Indicator\n",
    "## Introduction\n",
    "- It makes sense to create a prediction indicator for Ninja Trader.\n",
    "- This indicator will predict the next Next Day's High and Low and Close.\n",
    "- In addition, the indicator will predict a realtime 5 minute bar's High and Low and Close."
   ],
   "id": "b5f7c63af8e0ef99"
  },
  {
   "metadata": {},
   "cell_type": "markdown",
   "source": [
    "## Website\n",
    "### Free Tier\n",
    "- Daily Predictions\n",
    "- Hot Stocks\n",
    "- Daily Market Summary\n",
    "\n",
    "### Paid Tier 1\n",
    "- Indicator with Daily Predictions\n",
    "\n",
    "### Paid Tier 2\n",
    "- Indicator with Houly, 15m, 5m Predictions\n"
   ],
   "id": "a9c94d4cae85c6f3"
  },
  {
   "metadata": {},
   "cell_type": "code",
   "outputs": [],
   "execution_count": null,
   "source": "",
   "id": "1e7e9d34801c36a9"
  }
 ],
 "metadata": {
  "kernelspec": {
   "display_name": "Python 3",
   "language": "python",
   "name": "python3"
  },
  "language_info": {
   "codemirror_mode": {
    "name": "ipython",
    "version": 2
   },
   "file_extension": ".py",
   "mimetype": "text/x-python",
   "name": "python",
   "nbconvert_exporter": "python",
   "pygments_lexer": "ipython2",
   "version": "2.7.6"
  }
 },
 "nbformat": 4,
 "nbformat_minor": 5
}
